{
 "cells": [
  {
   "cell_type": "code",
   "execution_count": 1,
   "metadata": {
    "collapsed": false,
    "pycharm": {
     "name": "#%%\n"
    }
   },
   "outputs": [],
   "source": [
    "import feature_e\n",
    "import numpy as np\n",
    "import pandas as pd\n",
    "from sklearn.preprocessing import LabelEncoder\n",
    "import os\n",
    "import warnings\n",
    "warnings.filterwarnings('ignore')\n",
    "import matplotlib.pyplot as plt\n",
    "import seaborn as sns\n",
    "from sklearn.preprocessing import MinMaxScaler\n",
    "from sklearn.linear_model import LogisticRegression\n",
    "from sklearn.ensemble import RandomForestClassifier\n",
    "from sklearn.impute import SimpleImputer\n",
    "from sklearn.preprocessing import PolynomialFeatures\n",
    "import re\n",
    "from sklearn.model_selection import GridSearchCV\n",
    "from sklearn.metrics import fbeta_score, make_scorer\n",
    "import mlflow\n",
    "import mlflow.sklearn\n"
   ]
  },
  {
   "cell_type": "code",
   "execution_count": 2,
   "metadata": {
    "collapsed": false,
    "pycharm": {
     "name": "#%%\n"
    }
   },
   "outputs": [
    {
     "name": "stdout",
     "output_type": "stream",
     "text": [
      "Tracking URI: http://localhost:5000\n"
     ]
    }
   ],
   "source": [
    "mlflow.set_tracking_uri(\"http://localhost:5000\")\n",
    "print(\"Tracking URI:\", mlflow.tracking.get_tracking_uri())"
   ]
  },
  {
   "cell_type": "code",
   "execution_count": 3,
   "metadata": {
    "collapsed": false,
    "pycharm": {
     "name": "#%%\n"
    }
   },
   "outputs": [
    {
     "name": "stdout",
     "output_type": "stream",
     "text": [
      "Train samples: 307511, test samples: 48744\n",
      "Bureau df shape: (305811, 116)\n",
      "Process bureau and bureau_balance - done in 18s\n",
      "Previous applications df shape: (338857, 249)\n",
      "Process previous_applications - done in 22s\n",
      "Pos-cash balance df shape: (337252, 18)\n",
      "Process POS-CASH balance - done in 10s\n",
      "Installments payments df shape: (339587, 26)\n",
      "Process installments payments - done in 28s\n",
      "Credit card balance df shape: (103558, 141)\n",
      "Process credit card balance - done in 17s\n"
     ]
    }
   ],
   "source": [
    "features = feature_e.run_future_eng()"
   ]
  },
  {
   "cell_type": "code",
   "execution_count": 4,
   "metadata": {
    "collapsed": false,
    "pycharm": {
     "name": "#%%\n"
    }
   },
   "outputs": [],
   "source": [
    "features = features.rename(columns=lambda x: re.sub(\"[^A-Za-z0-9_]+\", \"\", x))"
   ]
  },
  {
   "cell_type": "code",
   "execution_count": 5,
   "metadata": {
    "collapsed": false,
    "pycharm": {
     "name": "#%%\n"
    }
   },
   "outputs": [
    {
     "data": {
      "text/html": [
       "<div>\n",
       "<style scoped>\n",
       "    .dataframe tbody tr th:only-of-type {\n",
       "        vertical-align: middle;\n",
       "    }\n",
       "\n",
       "    .dataframe tbody tr th {\n",
       "        vertical-align: top;\n",
       "    }\n",
       "\n",
       "    .dataframe thead th {\n",
       "        text-align: right;\n",
       "    }\n",
       "</style>\n",
       "<table border=\"1\" class=\"dataframe\">\n",
       "  <thead>\n",
       "    <tr style=\"text-align: right;\">\n",
       "      <th></th>\n",
       "      <th>index</th>\n",
       "      <th>SK_ID_CURR</th>\n",
       "      <th>TARGET</th>\n",
       "      <th>CODE_GENDER</th>\n",
       "      <th>FLAG_OWN_CAR</th>\n",
       "      <th>FLAG_OWN_REALTY</th>\n",
       "      <th>CNT_CHILDREN</th>\n",
       "      <th>AMT_INCOME_TOTAL</th>\n",
       "      <th>AMT_CREDIT</th>\n",
       "      <th>AMT_ANNUITY</th>\n",
       "      <th>...</th>\n",
       "      <th>CC_NAME_CONTRACT_STATUS_Signed_MAX</th>\n",
       "      <th>CC_NAME_CONTRACT_STATUS_Signed_MEAN</th>\n",
       "      <th>CC_NAME_CONTRACT_STATUS_Signed_SUM</th>\n",
       "      <th>CC_NAME_CONTRACT_STATUS_Signed_VAR</th>\n",
       "      <th>CC_NAME_CONTRACT_STATUS_nan_MIN</th>\n",
       "      <th>CC_NAME_CONTRACT_STATUS_nan_MAX</th>\n",
       "      <th>CC_NAME_CONTRACT_STATUS_nan_MEAN</th>\n",
       "      <th>CC_NAME_CONTRACT_STATUS_nan_SUM</th>\n",
       "      <th>CC_NAME_CONTRACT_STATUS_nan_VAR</th>\n",
       "      <th>CC_COUNT</th>\n",
       "    </tr>\n",
       "  </thead>\n",
       "  <tbody>\n",
       "    <tr>\n",
       "      <th>0</th>\n",
       "      <td>0</td>\n",
       "      <td>100002</td>\n",
       "      <td>1.0</td>\n",
       "      <td>0</td>\n",
       "      <td>0</td>\n",
       "      <td>0</td>\n",
       "      <td>0</td>\n",
       "      <td>202500.0</td>\n",
       "      <td>406597.5</td>\n",
       "      <td>24700.5</td>\n",
       "      <td>...</td>\n",
       "      <td>NaN</td>\n",
       "      <td>NaN</td>\n",
       "      <td>NaN</td>\n",
       "      <td>NaN</td>\n",
       "      <td>NaN</td>\n",
       "      <td>NaN</td>\n",
       "      <td>NaN</td>\n",
       "      <td>NaN</td>\n",
       "      <td>NaN</td>\n",
       "      <td>NaN</td>\n",
       "    </tr>\n",
       "    <tr>\n",
       "      <th>1</th>\n",
       "      <td>1</td>\n",
       "      <td>100003</td>\n",
       "      <td>0.0</td>\n",
       "      <td>1</td>\n",
       "      <td>0</td>\n",
       "      <td>1</td>\n",
       "      <td>0</td>\n",
       "      <td>270000.0</td>\n",
       "      <td>1293502.5</td>\n",
       "      <td>35698.5</td>\n",
       "      <td>...</td>\n",
       "      <td>NaN</td>\n",
       "      <td>NaN</td>\n",
       "      <td>NaN</td>\n",
       "      <td>NaN</td>\n",
       "      <td>NaN</td>\n",
       "      <td>NaN</td>\n",
       "      <td>NaN</td>\n",
       "      <td>NaN</td>\n",
       "      <td>NaN</td>\n",
       "      <td>NaN</td>\n",
       "    </tr>\n",
       "    <tr>\n",
       "      <th>2</th>\n",
       "      <td>2</td>\n",
       "      <td>100004</td>\n",
       "      <td>0.0</td>\n",
       "      <td>0</td>\n",
       "      <td>1</td>\n",
       "      <td>0</td>\n",
       "      <td>0</td>\n",
       "      <td>67500.0</td>\n",
       "      <td>135000.0</td>\n",
       "      <td>6750.0</td>\n",
       "      <td>...</td>\n",
       "      <td>NaN</td>\n",
       "      <td>NaN</td>\n",
       "      <td>NaN</td>\n",
       "      <td>NaN</td>\n",
       "      <td>NaN</td>\n",
       "      <td>NaN</td>\n",
       "      <td>NaN</td>\n",
       "      <td>NaN</td>\n",
       "      <td>NaN</td>\n",
       "      <td>NaN</td>\n",
       "    </tr>\n",
       "    <tr>\n",
       "      <th>3</th>\n",
       "      <td>3</td>\n",
       "      <td>100006</td>\n",
       "      <td>0.0</td>\n",
       "      <td>1</td>\n",
       "      <td>0</td>\n",
       "      <td>0</td>\n",
       "      <td>0</td>\n",
       "      <td>135000.0</td>\n",
       "      <td>312682.5</td>\n",
       "      <td>29686.5</td>\n",
       "      <td>...</td>\n",
       "      <td>0.0</td>\n",
       "      <td>0.0</td>\n",
       "      <td>0.0</td>\n",
       "      <td>0.0</td>\n",
       "      <td>0.0</td>\n",
       "      <td>0.0</td>\n",
       "      <td>0.0</td>\n",
       "      <td>0.0</td>\n",
       "      <td>0.0</td>\n",
       "      <td>6.0</td>\n",
       "    </tr>\n",
       "    <tr>\n",
       "      <th>4</th>\n",
       "      <td>4</td>\n",
       "      <td>100007</td>\n",
       "      <td>0.0</td>\n",
       "      <td>0</td>\n",
       "      <td>0</td>\n",
       "      <td>0</td>\n",
       "      <td>0</td>\n",
       "      <td>121500.0</td>\n",
       "      <td>513000.0</td>\n",
       "      <td>21865.5</td>\n",
       "      <td>...</td>\n",
       "      <td>NaN</td>\n",
       "      <td>NaN</td>\n",
       "      <td>NaN</td>\n",
       "      <td>NaN</td>\n",
       "      <td>NaN</td>\n",
       "      <td>NaN</td>\n",
       "      <td>NaN</td>\n",
       "      <td>NaN</td>\n",
       "      <td>NaN</td>\n",
       "      <td>NaN</td>\n",
       "    </tr>\n",
       "    <tr>\n",
       "      <th>...</th>\n",
       "      <td>...</td>\n",
       "      <td>...</td>\n",
       "      <td>...</td>\n",
       "      <td>...</td>\n",
       "      <td>...</td>\n",
       "      <td>...</td>\n",
       "      <td>...</td>\n",
       "      <td>...</td>\n",
       "      <td>...</td>\n",
       "      <td>...</td>\n",
       "      <td>...</td>\n",
       "      <td>...</td>\n",
       "      <td>...</td>\n",
       "      <td>...</td>\n",
       "      <td>...</td>\n",
       "      <td>...</td>\n",
       "      <td>...</td>\n",
       "      <td>...</td>\n",
       "      <td>...</td>\n",
       "      <td>...</td>\n",
       "      <td>...</td>\n",
       "    </tr>\n",
       "    <tr>\n",
       "      <th>356250</th>\n",
       "      <td>48739</td>\n",
       "      <td>456221</td>\n",
       "      <td>NaN</td>\n",
       "      <td>1</td>\n",
       "      <td>0</td>\n",
       "      <td>0</td>\n",
       "      <td>0</td>\n",
       "      <td>121500.0</td>\n",
       "      <td>412560.0</td>\n",
       "      <td>17473.5</td>\n",
       "      <td>...</td>\n",
       "      <td>NaN</td>\n",
       "      <td>NaN</td>\n",
       "      <td>NaN</td>\n",
       "      <td>NaN</td>\n",
       "      <td>NaN</td>\n",
       "      <td>NaN</td>\n",
       "      <td>NaN</td>\n",
       "      <td>NaN</td>\n",
       "      <td>NaN</td>\n",
       "      <td>NaN</td>\n",
       "    </tr>\n",
       "    <tr>\n",
       "      <th>356251</th>\n",
       "      <td>48740</td>\n",
       "      <td>456222</td>\n",
       "      <td>NaN</td>\n",
       "      <td>1</td>\n",
       "      <td>0</td>\n",
       "      <td>1</td>\n",
       "      <td>2</td>\n",
       "      <td>157500.0</td>\n",
       "      <td>622413.0</td>\n",
       "      <td>31909.5</td>\n",
       "      <td>...</td>\n",
       "      <td>NaN</td>\n",
       "      <td>NaN</td>\n",
       "      <td>NaN</td>\n",
       "      <td>NaN</td>\n",
       "      <td>NaN</td>\n",
       "      <td>NaN</td>\n",
       "      <td>NaN</td>\n",
       "      <td>NaN</td>\n",
       "      <td>NaN</td>\n",
       "      <td>NaN</td>\n",
       "    </tr>\n",
       "    <tr>\n",
       "      <th>356252</th>\n",
       "      <td>48741</td>\n",
       "      <td>456223</td>\n",
       "      <td>NaN</td>\n",
       "      <td>1</td>\n",
       "      <td>1</td>\n",
       "      <td>0</td>\n",
       "      <td>1</td>\n",
       "      <td>202500.0</td>\n",
       "      <td>315000.0</td>\n",
       "      <td>33205.5</td>\n",
       "      <td>...</td>\n",
       "      <td>NaN</td>\n",
       "      <td>NaN</td>\n",
       "      <td>NaN</td>\n",
       "      <td>NaN</td>\n",
       "      <td>NaN</td>\n",
       "      <td>NaN</td>\n",
       "      <td>NaN</td>\n",
       "      <td>NaN</td>\n",
       "      <td>NaN</td>\n",
       "      <td>NaN</td>\n",
       "    </tr>\n",
       "    <tr>\n",
       "      <th>356253</th>\n",
       "      <td>48742</td>\n",
       "      <td>456224</td>\n",
       "      <td>NaN</td>\n",
       "      <td>0</td>\n",
       "      <td>0</td>\n",
       "      <td>1</td>\n",
       "      <td>0</td>\n",
       "      <td>225000.0</td>\n",
       "      <td>450000.0</td>\n",
       "      <td>25128.0</td>\n",
       "      <td>...</td>\n",
       "      <td>NaN</td>\n",
       "      <td>NaN</td>\n",
       "      <td>NaN</td>\n",
       "      <td>NaN</td>\n",
       "      <td>NaN</td>\n",
       "      <td>NaN</td>\n",
       "      <td>NaN</td>\n",
       "      <td>NaN</td>\n",
       "      <td>NaN</td>\n",
       "      <td>NaN</td>\n",
       "    </tr>\n",
       "    <tr>\n",
       "      <th>356254</th>\n",
       "      <td>48743</td>\n",
       "      <td>456250</td>\n",
       "      <td>NaN</td>\n",
       "      <td>1</td>\n",
       "      <td>1</td>\n",
       "      <td>1</td>\n",
       "      <td>0</td>\n",
       "      <td>135000.0</td>\n",
       "      <td>312768.0</td>\n",
       "      <td>24709.5</td>\n",
       "      <td>...</td>\n",
       "      <td>0.0</td>\n",
       "      <td>0.0</td>\n",
       "      <td>0.0</td>\n",
       "      <td>0.0</td>\n",
       "      <td>0.0</td>\n",
       "      <td>0.0</td>\n",
       "      <td>0.0</td>\n",
       "      <td>0.0</td>\n",
       "      <td>0.0</td>\n",
       "      <td>12.0</td>\n",
       "    </tr>\n",
       "  </tbody>\n",
       "</table>\n",
       "<p>356251 rows × 798 columns</p>\n",
       "</div>"
      ],
      "text/plain": [
       "        index  SK_ID_CURR  TARGET  CODE_GENDER  FLAG_OWN_CAR  FLAG_OWN_REALTY  \\\n",
       "0           0      100002     1.0            0             0                0   \n",
       "1           1      100003     0.0            1             0                1   \n",
       "2           2      100004     0.0            0             1                0   \n",
       "3           3      100006     0.0            1             0                0   \n",
       "4           4      100007     0.0            0             0                0   \n",
       "...       ...         ...     ...          ...           ...              ...   \n",
       "356250  48739      456221     NaN            1             0                0   \n",
       "356251  48740      456222     NaN            1             0                1   \n",
       "356252  48741      456223     NaN            1             1                0   \n",
       "356253  48742      456224     NaN            0             0                1   \n",
       "356254  48743      456250     NaN            1             1                1   \n",
       "\n",
       "        CNT_CHILDREN  AMT_INCOME_TOTAL  AMT_CREDIT  AMT_ANNUITY  ...  \\\n",
       "0                  0          202500.0    406597.5      24700.5  ...   \n",
       "1                  0          270000.0   1293502.5      35698.5  ...   \n",
       "2                  0           67500.0    135000.0       6750.0  ...   \n",
       "3                  0          135000.0    312682.5      29686.5  ...   \n",
       "4                  0          121500.0    513000.0      21865.5  ...   \n",
       "...              ...               ...         ...          ...  ...   \n",
       "356250             0          121500.0    412560.0      17473.5  ...   \n",
       "356251             2          157500.0    622413.0      31909.5  ...   \n",
       "356252             1          202500.0    315000.0      33205.5  ...   \n",
       "356253             0          225000.0    450000.0      25128.0  ...   \n",
       "356254             0          135000.0    312768.0      24709.5  ...   \n",
       "\n",
       "        CC_NAME_CONTRACT_STATUS_Signed_MAX  \\\n",
       "0                                      NaN   \n",
       "1                                      NaN   \n",
       "2                                      NaN   \n",
       "3                                      0.0   \n",
       "4                                      NaN   \n",
       "...                                    ...   \n",
       "356250                                 NaN   \n",
       "356251                                 NaN   \n",
       "356252                                 NaN   \n",
       "356253                                 NaN   \n",
       "356254                                 0.0   \n",
       "\n",
       "        CC_NAME_CONTRACT_STATUS_Signed_MEAN  \\\n",
       "0                                       NaN   \n",
       "1                                       NaN   \n",
       "2                                       NaN   \n",
       "3                                       0.0   \n",
       "4                                       NaN   \n",
       "...                                     ...   \n",
       "356250                                  NaN   \n",
       "356251                                  NaN   \n",
       "356252                                  NaN   \n",
       "356253                                  NaN   \n",
       "356254                                  0.0   \n",
       "\n",
       "        CC_NAME_CONTRACT_STATUS_Signed_SUM  \\\n",
       "0                                      NaN   \n",
       "1                                      NaN   \n",
       "2                                      NaN   \n",
       "3                                      0.0   \n",
       "4                                      NaN   \n",
       "...                                    ...   \n",
       "356250                                 NaN   \n",
       "356251                                 NaN   \n",
       "356252                                 NaN   \n",
       "356253                                 NaN   \n",
       "356254                                 0.0   \n",
       "\n",
       "        CC_NAME_CONTRACT_STATUS_Signed_VAR  CC_NAME_CONTRACT_STATUS_nan_MIN  \\\n",
       "0                                      NaN                              NaN   \n",
       "1                                      NaN                              NaN   \n",
       "2                                      NaN                              NaN   \n",
       "3                                      0.0                              0.0   \n",
       "4                                      NaN                              NaN   \n",
       "...                                    ...                              ...   \n",
       "356250                                 NaN                              NaN   \n",
       "356251                                 NaN                              NaN   \n",
       "356252                                 NaN                              NaN   \n",
       "356253                                 NaN                              NaN   \n",
       "356254                                 0.0                              0.0   \n",
       "\n",
       "        CC_NAME_CONTRACT_STATUS_nan_MAX  CC_NAME_CONTRACT_STATUS_nan_MEAN  \\\n",
       "0                                   NaN                               NaN   \n",
       "1                                   NaN                               NaN   \n",
       "2                                   NaN                               NaN   \n",
       "3                                   0.0                               0.0   \n",
       "4                                   NaN                               NaN   \n",
       "...                                 ...                               ...   \n",
       "356250                              NaN                               NaN   \n",
       "356251                              NaN                               NaN   \n",
       "356252                              NaN                               NaN   \n",
       "356253                              NaN                               NaN   \n",
       "356254                              0.0                               0.0   \n",
       "\n",
       "        CC_NAME_CONTRACT_STATUS_nan_SUM  CC_NAME_CONTRACT_STATUS_nan_VAR  \\\n",
       "0                                   NaN                              NaN   \n",
       "1                                   NaN                              NaN   \n",
       "2                                   NaN                              NaN   \n",
       "3                                   0.0                              0.0   \n",
       "4                                   NaN                              NaN   \n",
       "...                                 ...                              ...   \n",
       "356250                              NaN                              NaN   \n",
       "356251                              NaN                              NaN   \n",
       "356252                              NaN                              NaN   \n",
       "356253                              NaN                              NaN   \n",
       "356254                              0.0                              0.0   \n",
       "\n",
       "        CC_COUNT  \n",
       "0            NaN  \n",
       "1            NaN  \n",
       "2            NaN  \n",
       "3            6.0  \n",
       "4            NaN  \n",
       "...          ...  \n",
       "356250       NaN  \n",
       "356251       NaN  \n",
       "356252       NaN  \n",
       "356253       NaN  \n",
       "356254      12.0  \n",
       "\n",
       "[356251 rows x 798 columns]"
      ]
     },
     "execution_count": 5,
     "metadata": {},
     "output_type": "execute_result"
    }
   ],
   "source": [
    "features"
   ]
  },
  {
   "cell_type": "code",
   "execution_count": 6,
   "metadata": {
    "collapsed": false,
    "pycharm": {
     "name": "#%%\n"
    }
   },
   "outputs": [
    {
     "name": "stdout",
     "output_type": "stream",
     "text": [
      "Tracking URI: http://localhost:5000\n"
     ]
    }
   ],
   "source": [
    "mlflow.set_tracking_uri(\"http://localhost:5000\")\n",
    "print(\"Tracking URI:\", mlflow.tracking.get_tracking_uri())"
   ]
  },
  {
   "cell_type": "code",
   "execution_count": 7,
   "metadata": {
    "collapsed": false,
    "pycharm": {
     "name": "#%%\n"
    }
   },
   "outputs": [],
   "source": [
    "features_train = features[features[\"TARGET\"].notnull()]\n",
    "features_test = features[features[\"TARGET\"].isnull()]"
   ]
  },
  {
   "cell_type": "code",
   "execution_count": 8,
   "metadata": {
    "collapsed": false,
    "pycharm": {
     "name": "#%%\n"
    }
   },
   "outputs": [],
   "source": [
    "train_labels = features_train['TARGET']"
   ]
  },
  {
   "cell_type": "code",
   "execution_count": 9,
   "metadata": {
    "collapsed": false,
    "pycharm": {
     "name": "#%%\n"
    }
   },
   "outputs": [],
   "source": [
    "train = features_train.drop(\"TARGET\", axis=1)\n",
    "train.replace([np.inf, -np.inf], np.nan, inplace=True)"
   ]
  },
  {
   "cell_type": "code",
   "execution_count": 10,
   "metadata": {
    "collapsed": false,
    "pycharm": {
     "name": "#%%\n"
    }
   },
   "outputs": [],
   "source": [
    "train.drop([\"index\", \"SK_ID_CURR\"], axis=1, inplace=True)"
   ]
  },
  {
   "cell_type": "code",
   "execution_count": 11,
   "metadata": {
    "collapsed": false,
    "pycharm": {
     "name": "#%%\n"
    }
   },
   "outputs": [
    {
     "data": {
      "text/html": [
       "<style>#sk-container-id-1 {color: black;background-color: white;}#sk-container-id-1 pre{padding: 0;}#sk-container-id-1 div.sk-toggleable {background-color: white;}#sk-container-id-1 label.sk-toggleable__label {cursor: pointer;display: block;width: 100%;margin-bottom: 0;padding: 0.3em;box-sizing: border-box;text-align: center;}#sk-container-id-1 label.sk-toggleable__label-arrow:before {content: \"▸\";float: left;margin-right: 0.25em;color: #696969;}#sk-container-id-1 label.sk-toggleable__label-arrow:hover:before {color: black;}#sk-container-id-1 div.sk-estimator:hover label.sk-toggleable__label-arrow:before {color: black;}#sk-container-id-1 div.sk-toggleable__content {max-height: 0;max-width: 0;overflow: hidden;text-align: left;background-color: #f0f8ff;}#sk-container-id-1 div.sk-toggleable__content pre {margin: 0.2em;color: black;border-radius: 0.25em;background-color: #f0f8ff;}#sk-container-id-1 input.sk-toggleable__control:checked~div.sk-toggleable__content {max-height: 200px;max-width: 100%;overflow: auto;}#sk-container-id-1 input.sk-toggleable__control:checked~label.sk-toggleable__label-arrow:before {content: \"▾\";}#sk-container-id-1 div.sk-estimator input.sk-toggleable__control:checked~label.sk-toggleable__label {background-color: #d4ebff;}#sk-container-id-1 div.sk-label input.sk-toggleable__control:checked~label.sk-toggleable__label {background-color: #d4ebff;}#sk-container-id-1 input.sk-hidden--visually {border: 0;clip: rect(1px 1px 1px 1px);clip: rect(1px, 1px, 1px, 1px);height: 1px;margin: -1px;overflow: hidden;padding: 0;position: absolute;width: 1px;}#sk-container-id-1 div.sk-estimator {font-family: monospace;background-color: #f0f8ff;border: 1px dotted black;border-radius: 0.25em;box-sizing: border-box;margin-bottom: 0.5em;}#sk-container-id-1 div.sk-estimator:hover {background-color: #d4ebff;}#sk-container-id-1 div.sk-parallel-item::after {content: \"\";width: 100%;border-bottom: 1px solid gray;flex-grow: 1;}#sk-container-id-1 div.sk-label:hover label.sk-toggleable__label {background-color: #d4ebff;}#sk-container-id-1 div.sk-serial::before {content: \"\";position: absolute;border-left: 1px solid gray;box-sizing: border-box;top: 0;bottom: 0;left: 50%;z-index: 0;}#sk-container-id-1 div.sk-serial {display: flex;flex-direction: column;align-items: center;background-color: white;padding-right: 0.2em;padding-left: 0.2em;position: relative;}#sk-container-id-1 div.sk-item {position: relative;z-index: 1;}#sk-container-id-1 div.sk-parallel {display: flex;align-items: stretch;justify-content: center;background-color: white;position: relative;}#sk-container-id-1 div.sk-item::before, #sk-container-id-1 div.sk-parallel-item::before {content: \"\";position: absolute;border-left: 1px solid gray;box-sizing: border-box;top: 0;bottom: 0;left: 50%;z-index: -1;}#sk-container-id-1 div.sk-parallel-item {display: flex;flex-direction: column;z-index: 1;position: relative;background-color: white;}#sk-container-id-1 div.sk-parallel-item:first-child::after {align-self: flex-end;width: 50%;}#sk-container-id-1 div.sk-parallel-item:last-child::after {align-self: flex-start;width: 50%;}#sk-container-id-1 div.sk-parallel-item:only-child::after {width: 0;}#sk-container-id-1 div.sk-dashed-wrapped {border: 1px dashed gray;margin: 0 0.4em 0.5em 0.4em;box-sizing: border-box;padding-bottom: 0.4em;background-color: white;}#sk-container-id-1 div.sk-label label {font-family: monospace;font-weight: bold;display: inline-block;line-height: 1.2em;}#sk-container-id-1 div.sk-label-container {text-align: center;}#sk-container-id-1 div.sk-container {/* jupyter's `normalize.less` sets `[hidden] { display: none; }` but bootstrap.min.css set `[hidden] { display: none !important; }` so we also need the `!important` here to be able to override the default hidden behavior on the sphinx rendered scikit-learn.org. See: https://github.com/scikit-learn/scikit-learn/issues/21755 */display: inline-block !important;position: relative;}#sk-container-id-1 div.sk-text-repr-fallback {display: none;}</style><div id=\"sk-container-id-1\" class=\"sk-top-container\"><div class=\"sk-text-repr-fallback\"><pre>SimpleImputer(strategy=&#x27;median&#x27;)</pre><b>In a Jupyter environment, please rerun this cell to show the HTML representation or trust the notebook. <br />On GitHub, the HTML representation is unable to render, please try loading this page with nbviewer.org.</b></div><div class=\"sk-container\" hidden><div class=\"sk-item\"><div class=\"sk-estimator sk-toggleable\"><input class=\"sk-toggleable__control sk-hidden--visually\" id=\"sk-estimator-id-1\" type=\"checkbox\" checked><label for=\"sk-estimator-id-1\" class=\"sk-toggleable__label sk-toggleable__label-arrow\">SimpleImputer</label><div class=\"sk-toggleable__content\"><pre>SimpleImputer(strategy=&#x27;median&#x27;)</pre></div></div></div></div></div>"
      ],
      "text/plain": [
       "SimpleImputer(strategy='median')"
      ]
     },
     "execution_count": 11,
     "metadata": {},
     "output_type": "execute_result"
    }
   ],
   "source": [
    "imp = SimpleImputer(missing_values=np.nan, strategy='median')\n",
    "imp.fit(train)"
   ]
  },
  {
   "cell_type": "code",
   "execution_count": 12,
   "metadata": {
    "collapsed": false,
    "pycharm": {
     "name": "#%%\n"
    }
   },
   "outputs": [],
   "source": [
    "train = imp.transform(train)"
   ]
  },
  {
   "cell_type": "code",
   "execution_count": 13,
   "metadata": {
    "collapsed": false,
    "pycharm": {
     "name": "#%%\n"
    }
   },
   "outputs": [],
   "source": [
    "experiment_name = \"model_log\"\n",
    "try:\n",
    "    exp_id = mlflow.create_experiment(name=experiment_name)\n",
    "except Exception as e:\n",
    "    exp_id = mlflow.get_experiment_by_name(experiment_name).experiment_id"
   ]
  },
  {
   "cell_type": "code",
   "execution_count": 14,
   "metadata": {
    "collapsed": false,
    "pycharm": {
     "name": "#%%\n"
    }
   },
   "outputs": [],
   "source": [
    "ften_score = make_scorer(fbeta_score, beta=0.1)"
   ]
  },
  {
   "cell_type": "code",
   "execution_count": 15,
   "metadata": {
    "collapsed": false,
    "pycharm": {
     "name": "#%%\n"
    }
   },
   "outputs": [],
   "source": [
    "grid = GridSearchCV(LogisticRegression(), param_grid={\"C\":[0,1.0]}, scoring=ften_score)"
   ]
  },
  {
   "cell_type": "code",
   "execution_count": 16,
   "metadata": {
    "collapsed": false,
    "pycharm": {
     "name": "#%%\n"
    }
   },
   "outputs": [
    {
     "data": {
      "text/html": [
       "<style>#sk-container-id-2 {color: black;background-color: white;}#sk-container-id-2 pre{padding: 0;}#sk-container-id-2 div.sk-toggleable {background-color: white;}#sk-container-id-2 label.sk-toggleable__label {cursor: pointer;display: block;width: 100%;margin-bottom: 0;padding: 0.3em;box-sizing: border-box;text-align: center;}#sk-container-id-2 label.sk-toggleable__label-arrow:before {content: \"▸\";float: left;margin-right: 0.25em;color: #696969;}#sk-container-id-2 label.sk-toggleable__label-arrow:hover:before {color: black;}#sk-container-id-2 div.sk-estimator:hover label.sk-toggleable__label-arrow:before {color: black;}#sk-container-id-2 div.sk-toggleable__content {max-height: 0;max-width: 0;overflow: hidden;text-align: left;background-color: #f0f8ff;}#sk-container-id-2 div.sk-toggleable__content pre {margin: 0.2em;color: black;border-radius: 0.25em;background-color: #f0f8ff;}#sk-container-id-2 input.sk-toggleable__control:checked~div.sk-toggleable__content {max-height: 200px;max-width: 100%;overflow: auto;}#sk-container-id-2 input.sk-toggleable__control:checked~label.sk-toggleable__label-arrow:before {content: \"▾\";}#sk-container-id-2 div.sk-estimator input.sk-toggleable__control:checked~label.sk-toggleable__label {background-color: #d4ebff;}#sk-container-id-2 div.sk-label input.sk-toggleable__control:checked~label.sk-toggleable__label {background-color: #d4ebff;}#sk-container-id-2 input.sk-hidden--visually {border: 0;clip: rect(1px 1px 1px 1px);clip: rect(1px, 1px, 1px, 1px);height: 1px;margin: -1px;overflow: hidden;padding: 0;position: absolute;width: 1px;}#sk-container-id-2 div.sk-estimator {font-family: monospace;background-color: #f0f8ff;border: 1px dotted black;border-radius: 0.25em;box-sizing: border-box;margin-bottom: 0.5em;}#sk-container-id-2 div.sk-estimator:hover {background-color: #d4ebff;}#sk-container-id-2 div.sk-parallel-item::after {content: \"\";width: 100%;border-bottom: 1px solid gray;flex-grow: 1;}#sk-container-id-2 div.sk-label:hover label.sk-toggleable__label {background-color: #d4ebff;}#sk-container-id-2 div.sk-serial::before {content: \"\";position: absolute;border-left: 1px solid gray;box-sizing: border-box;top: 0;bottom: 0;left: 50%;z-index: 0;}#sk-container-id-2 div.sk-serial {display: flex;flex-direction: column;align-items: center;background-color: white;padding-right: 0.2em;padding-left: 0.2em;position: relative;}#sk-container-id-2 div.sk-item {position: relative;z-index: 1;}#sk-container-id-2 div.sk-parallel {display: flex;align-items: stretch;justify-content: center;background-color: white;position: relative;}#sk-container-id-2 div.sk-item::before, #sk-container-id-2 div.sk-parallel-item::before {content: \"\";position: absolute;border-left: 1px solid gray;box-sizing: border-box;top: 0;bottom: 0;left: 50%;z-index: -1;}#sk-container-id-2 div.sk-parallel-item {display: flex;flex-direction: column;z-index: 1;position: relative;background-color: white;}#sk-container-id-2 div.sk-parallel-item:first-child::after {align-self: flex-end;width: 50%;}#sk-container-id-2 div.sk-parallel-item:last-child::after {align-self: flex-start;width: 50%;}#sk-container-id-2 div.sk-parallel-item:only-child::after {width: 0;}#sk-container-id-2 div.sk-dashed-wrapped {border: 1px dashed gray;margin: 0 0.4em 0.5em 0.4em;box-sizing: border-box;padding-bottom: 0.4em;background-color: white;}#sk-container-id-2 div.sk-label label {font-family: monospace;font-weight: bold;display: inline-block;line-height: 1.2em;}#sk-container-id-2 div.sk-label-container {text-align: center;}#sk-container-id-2 div.sk-container {/* jupyter's `normalize.less` sets `[hidden] { display: none; }` but bootstrap.min.css set `[hidden] { display: none !important; }` so we also need the `!important` here to be able to override the default hidden behavior on the sphinx rendered scikit-learn.org. See: https://github.com/scikit-learn/scikit-learn/issues/21755 */display: inline-block !important;position: relative;}#sk-container-id-2 div.sk-text-repr-fallback {display: none;}</style><div id=\"sk-container-id-2\" class=\"sk-top-container\"><div class=\"sk-text-repr-fallback\"><pre>GridSearchCV(estimator=LogisticRegression(), param_grid={&#x27;C&#x27;: [0, 1.0]},\n",
       "             scoring=make_scorer(fbeta_score, beta=0.1))</pre><b>In a Jupyter environment, please rerun this cell to show the HTML representation or trust the notebook. <br />On GitHub, the HTML representation is unable to render, please try loading this page with nbviewer.org.</b></div><div class=\"sk-container\" hidden><div class=\"sk-item sk-dashed-wrapped\"><div class=\"sk-label-container\"><div class=\"sk-label sk-toggleable\"><input class=\"sk-toggleable__control sk-hidden--visually\" id=\"sk-estimator-id-2\" type=\"checkbox\" ><label for=\"sk-estimator-id-2\" class=\"sk-toggleable__label sk-toggleable__label-arrow\">GridSearchCV</label><div class=\"sk-toggleable__content\"><pre>GridSearchCV(estimator=LogisticRegression(), param_grid={&#x27;C&#x27;: [0, 1.0]},\n",
       "             scoring=make_scorer(fbeta_score, beta=0.1))</pre></div></div></div><div class=\"sk-parallel\"><div class=\"sk-parallel-item\"><div class=\"sk-item\"><div class=\"sk-label-container\"><div class=\"sk-label sk-toggleable\"><input class=\"sk-toggleable__control sk-hidden--visually\" id=\"sk-estimator-id-3\" type=\"checkbox\" ><label for=\"sk-estimator-id-3\" class=\"sk-toggleable__label sk-toggleable__label-arrow\">estimator: LogisticRegression</label><div class=\"sk-toggleable__content\"><pre>LogisticRegression()</pre></div></div></div><div class=\"sk-serial\"><div class=\"sk-item\"><div class=\"sk-estimator sk-toggleable\"><input class=\"sk-toggleable__control sk-hidden--visually\" id=\"sk-estimator-id-4\" type=\"checkbox\" ><label for=\"sk-estimator-id-4\" class=\"sk-toggleable__label sk-toggleable__label-arrow\">LogisticRegression</label><div class=\"sk-toggleable__content\"><pre>LogisticRegression()</pre></div></div></div></div></div></div></div></div></div></div>"
      ],
      "text/plain": [
       "GridSearchCV(estimator=LogisticRegression(), param_grid={'C': [0, 1.0]},\n",
       "             scoring=make_scorer(fbeta_score, beta=0.1))"
      ]
     },
     "execution_count": 16,
     "metadata": {},
     "output_type": "execute_result"
    }
   ],
   "source": [
    "grid.fit(train, train_labels)"
   ]
  },
  {
   "cell_type": "code",
   "execution_count": 17,
   "metadata": {
    "collapsed": false,
    "pycharm": {
     "name": "#%%\n"
    }
   },
   "outputs": [
    {
     "data": {
      "text/plain": [
       "{'C': 1.0}"
      ]
     },
     "execution_count": 17,
     "metadata": {},
     "output_type": "execute_result"
    }
   ],
   "source": [
    "grid.best_params_"
   ]
  },
  {
   "cell_type": "code",
   "execution_count": 18,
   "metadata": {
    "collapsed": false,
    "pycharm": {
     "name": "#%%\n"
    }
   },
   "outputs": [],
   "source": [
    "with mlflow.start_run(experiment_id=exp_id, run_name=\"run_1\"):\n",
    "    C =grid.best_params_[\"C\"]\n",
    "    mlflow.log_param(\"C\",C)\n",
    "    log_reg =LogisticRegression( C=C )\n",
    "    log_reg.fit(train, train_labels)\n",
    "    model_info = mlflow.sklearn.log_model(sk_model=log_reg, artifact_path=\"model\")"
   ]
  },
  {
   "cell_type": "code",
   "execution_count": 19,
   "metadata": {
    "collapsed": false,
    "pycharm": {
     "name": "#%%\n"
    }
   },
   "outputs": [],
   "source": [
    "features_test.drop([\"index\", \"SK_ID_CURR\", \"TARGET\"], axis=1, inplace=True)"
   ]
  },
  {
   "cell_type": "code",
   "execution_count": 20,
   "metadata": {
    "collapsed": false,
    "pycharm": {
     "name": "#%%\n"
    }
   },
   "outputs": [],
   "source": [
    "features_test.replace([np.inf, -np.inf], np.nan, inplace=True)"
   ]
  },
  {
   "cell_type": "code",
   "execution_count": 21,
   "metadata": {
    "collapsed": false,
    "pycharm": {
     "name": "#%%\n"
    }
   },
   "outputs": [],
   "source": [
    "test = imp.transform(features_test)"
   ]
  },
  {
   "cell_type": "code",
   "execution_count": 22,
   "metadata": {
    "collapsed": false,
    "pycharm": {
     "name": "#%%\n"
    }
   },
   "outputs": [],
   "source": [
    "log_reg_pred = log_reg.predict(test)"
   ]
  },
  {
   "cell_type": "code",
   "execution_count": 23,
   "metadata": {
    "collapsed": false,
    "pycharm": {
     "name": "#%%\n"
    }
   },
   "outputs": [
    {
     "data": {
      "text/plain": [
       "array([0., 0., 0., ..., 0., 0., 0.])"
      ]
     },
     "execution_count": 23,
     "metadata": {},
     "output_type": "execute_result"
    }
   ],
   "source": [
    "log_reg_pred"
   ]
  },
  {
   "cell_type": "code",
   "execution_count": 24,
   "metadata": {
    "collapsed": false,
    "pycharm": {
     "name": "#%%\n"
    }
   },
   "outputs": [
    {
     "data": {
      "text/plain": [
       "332"
      ]
     },
     "execution_count": 24,
     "metadata": {},
     "output_type": "execute_result"
    }
   ],
   "source": [
    "np.count_nonzero(log_reg_pred == 1)"
   ]
  },
  {
   "cell_type": "code",
   "execution_count": 25,
   "metadata": {
    "collapsed": false,
    "pycharm": {
     "name": "#%%\n"
    }
   },
   "outputs": [],
   "source": [
    "experiment_name2 = \"random_forest\"\n",
    "try:\n",
    "    exp_id = mlflow.create_experiment(name=experiment_name2)\n",
    "except Exception as e:\n",
    "    exp_id = mlflow.get_experiment_by_name(experiment_name2).experiment_id"
   ]
  },
  {
   "cell_type": "code",
   "execution_count": 26,
   "metadata": {
    "collapsed": false,
    "pycharm": {
     "name": "#%%\n"
    }
   },
   "outputs": [],
   "source": [
    "ften_score = make_scorer(fbeta_score, beta=0.1)"
   ]
  },
  {
   "cell_type": "code",
   "execution_count": 27,
   "metadata": {
    "collapsed": false,
    "pycharm": {
     "name": "#%%\n"
    }
   },
   "outputs": [],
   "source": [
    "grid = GridSearchCV(RandomForestClassifier(random_state =50, verbose =1 , n_jobs = -1), param_grid={\"n_estimators\":[150,180]}, scoring=ften_score)"
   ]
  },
  {
   "cell_type": "code",
   "execution_count": 28,
   "metadata": {
    "collapsed": false,
    "pycharm": {
     "name": "#%%\n"
    }
   },
   "outputs": [
    {
     "name": "stderr",
     "output_type": "stream",
     "text": [
      "[Parallel(n_jobs=-1)]: Using backend LokyBackend with 16 concurrent workers.\n",
      "[Parallel(n_jobs=-1)]: Done  18 tasks      | elapsed:   14.6s\n",
      "[Parallel(n_jobs=-1)]: Done 150 out of 150 | elapsed:  1.6min finished\n",
      "[Parallel(n_jobs=16)]: Using backend ThreadingBackend with 16 concurrent workers.\n",
      "[Parallel(n_jobs=16)]: Done  18 tasks      | elapsed:    0.1s\n",
      "[Parallel(n_jobs=16)]: Done 150 out of 150 | elapsed:    0.5s finished\n",
      "[Parallel(n_jobs=-1)]: Using backend LokyBackend with 16 concurrent workers.\n",
      "[Parallel(n_jobs=-1)]: Done  18 tasks      | elapsed:   13.5s\n",
      "[Parallel(n_jobs=-1)]: Done 150 out of 150 | elapsed:  1.5min finished\n",
      "[Parallel(n_jobs=16)]: Using backend ThreadingBackend with 16 concurrent workers.\n",
      "[Parallel(n_jobs=16)]: Done  18 tasks      | elapsed:    0.1s\n",
      "[Parallel(n_jobs=16)]: Done 150 out of 150 | elapsed:    0.5s finished\n",
      "[Parallel(n_jobs=-1)]: Using backend LokyBackend with 16 concurrent workers.\n",
      "[Parallel(n_jobs=-1)]: Done  18 tasks      | elapsed:   14.1s\n",
      "[Parallel(n_jobs=-1)]: Done 150 out of 150 | elapsed:  1.5min finished\n",
      "[Parallel(n_jobs=16)]: Using backend ThreadingBackend with 16 concurrent workers.\n",
      "[Parallel(n_jobs=16)]: Done  18 tasks      | elapsed:    0.1s\n",
      "[Parallel(n_jobs=16)]: Done 150 out of 150 | elapsed:    0.5s finished\n",
      "[Parallel(n_jobs=-1)]: Using backend LokyBackend with 16 concurrent workers.\n",
      "[Parallel(n_jobs=-1)]: Done  18 tasks      | elapsed:   14.2s\n",
      "[Parallel(n_jobs=-1)]: Done 150 out of 150 | elapsed:  1.5min finished\n",
      "[Parallel(n_jobs=16)]: Using backend ThreadingBackend with 16 concurrent workers.\n",
      "[Parallel(n_jobs=16)]: Done  18 tasks      | elapsed:    0.1s\n",
      "[Parallel(n_jobs=16)]: Done 150 out of 150 | elapsed:    0.5s finished\n",
      "[Parallel(n_jobs=-1)]: Using backend LokyBackend with 16 concurrent workers.\n",
      "[Parallel(n_jobs=-1)]: Done  18 tasks      | elapsed:   14.4s\n",
      "[Parallel(n_jobs=-1)]: Done 150 out of 150 | elapsed:  1.6min finished\n",
      "[Parallel(n_jobs=16)]: Using backend ThreadingBackend with 16 concurrent workers.\n",
      "[Parallel(n_jobs=16)]: Done  18 tasks      | elapsed:    0.1s\n",
      "[Parallel(n_jobs=16)]: Done 150 out of 150 | elapsed:    0.5s finished\n",
      "[Parallel(n_jobs=-1)]: Using backend LokyBackend with 16 concurrent workers.\n",
      "[Parallel(n_jobs=-1)]: Done  18 tasks      | elapsed:   13.7s\n",
      "[Parallel(n_jobs=-1)]: Done 180 out of 180 | elapsed:  1.7min finished\n",
      "[Parallel(n_jobs=16)]: Using backend ThreadingBackend with 16 concurrent workers.\n",
      "[Parallel(n_jobs=16)]: Done  18 tasks      | elapsed:    0.1s\n",
      "[Parallel(n_jobs=16)]: Done 180 out of 180 | elapsed:    0.6s finished\n",
      "[Parallel(n_jobs=-1)]: Using backend LokyBackend with 16 concurrent workers.\n",
      "[Parallel(n_jobs=-1)]: Done  18 tasks      | elapsed:   13.3s\n",
      "[Parallel(n_jobs=-1)]: Done 180 out of 180 | elapsed:  1.8min finished\n",
      "[Parallel(n_jobs=16)]: Using backend ThreadingBackend with 16 concurrent workers.\n",
      "[Parallel(n_jobs=16)]: Done  18 tasks      | elapsed:    0.1s\n",
      "[Parallel(n_jobs=16)]: Done 180 out of 180 | elapsed:    0.6s finished\n",
      "[Parallel(n_jobs=-1)]: Using backend LokyBackend with 16 concurrent workers.\n",
      "[Parallel(n_jobs=-1)]: Done  18 tasks      | elapsed:   13.4s\n",
      "[Parallel(n_jobs=-1)]: Done 180 out of 180 | elapsed:  1.7min finished\n",
      "[Parallel(n_jobs=16)]: Using backend ThreadingBackend with 16 concurrent workers.\n",
      "[Parallel(n_jobs=16)]: Done  18 tasks      | elapsed:    0.1s\n",
      "[Parallel(n_jobs=16)]: Done 180 out of 180 | elapsed:    0.6s finished\n",
      "[Parallel(n_jobs=-1)]: Using backend LokyBackend with 16 concurrent workers.\n",
      "[Parallel(n_jobs=-1)]: Done  18 tasks      | elapsed:   13.7s\n",
      "[Parallel(n_jobs=-1)]: Done 180 out of 180 | elapsed:  1.8min finished\n",
      "[Parallel(n_jobs=16)]: Using backend ThreadingBackend with 16 concurrent workers.\n",
      "[Parallel(n_jobs=16)]: Done  18 tasks      | elapsed:    0.1s\n",
      "[Parallel(n_jobs=16)]: Done 180 out of 180 | elapsed:    0.6s finished\n",
      "[Parallel(n_jobs=-1)]: Using backend LokyBackend with 16 concurrent workers.\n",
      "[Parallel(n_jobs=-1)]: Done  18 tasks      | elapsed:   13.6s\n",
      "[Parallel(n_jobs=-1)]: Done 180 out of 180 | elapsed:  1.9min finished\n",
      "[Parallel(n_jobs=16)]: Using backend ThreadingBackend with 16 concurrent workers.\n",
      "[Parallel(n_jobs=16)]: Done  18 tasks      | elapsed:    0.1s\n",
      "[Parallel(n_jobs=16)]: Done 180 out of 180 | elapsed:    0.6s finished\n",
      "[Parallel(n_jobs=-1)]: Using backend ThreadingBackend with 16 concurrent workers.\n",
      "[Parallel(n_jobs=-1)]: Done  18 tasks      | elapsed:   12.1s\n",
      "[Parallel(n_jobs=-1)]: Done 150 out of 150 | elapsed:  1.3min finished\n"
     ]
    },
    {
     "data": {
      "text/html": [
       "<style>#sk-container-id-3 {color: black;background-color: white;}#sk-container-id-3 pre{padding: 0;}#sk-container-id-3 div.sk-toggleable {background-color: white;}#sk-container-id-3 label.sk-toggleable__label {cursor: pointer;display: block;width: 100%;margin-bottom: 0;padding: 0.3em;box-sizing: border-box;text-align: center;}#sk-container-id-3 label.sk-toggleable__label-arrow:before {content: \"▸\";float: left;margin-right: 0.25em;color: #696969;}#sk-container-id-3 label.sk-toggleable__label-arrow:hover:before {color: black;}#sk-container-id-3 div.sk-estimator:hover label.sk-toggleable__label-arrow:before {color: black;}#sk-container-id-3 div.sk-toggleable__content {max-height: 0;max-width: 0;overflow: hidden;text-align: left;background-color: #f0f8ff;}#sk-container-id-3 div.sk-toggleable__content pre {margin: 0.2em;color: black;border-radius: 0.25em;background-color: #f0f8ff;}#sk-container-id-3 input.sk-toggleable__control:checked~div.sk-toggleable__content {max-height: 200px;max-width: 100%;overflow: auto;}#sk-container-id-3 input.sk-toggleable__control:checked~label.sk-toggleable__label-arrow:before {content: \"▾\";}#sk-container-id-3 div.sk-estimator input.sk-toggleable__control:checked~label.sk-toggleable__label {background-color: #d4ebff;}#sk-container-id-3 div.sk-label input.sk-toggleable__control:checked~label.sk-toggleable__label {background-color: #d4ebff;}#sk-container-id-3 input.sk-hidden--visually {border: 0;clip: rect(1px 1px 1px 1px);clip: rect(1px, 1px, 1px, 1px);height: 1px;margin: -1px;overflow: hidden;padding: 0;position: absolute;width: 1px;}#sk-container-id-3 div.sk-estimator {font-family: monospace;background-color: #f0f8ff;border: 1px dotted black;border-radius: 0.25em;box-sizing: border-box;margin-bottom: 0.5em;}#sk-container-id-3 div.sk-estimator:hover {background-color: #d4ebff;}#sk-container-id-3 div.sk-parallel-item::after {content: \"\";width: 100%;border-bottom: 1px solid gray;flex-grow: 1;}#sk-container-id-3 div.sk-label:hover label.sk-toggleable__label {background-color: #d4ebff;}#sk-container-id-3 div.sk-serial::before {content: \"\";position: absolute;border-left: 1px solid gray;box-sizing: border-box;top: 0;bottom: 0;left: 50%;z-index: 0;}#sk-container-id-3 div.sk-serial {display: flex;flex-direction: column;align-items: center;background-color: white;padding-right: 0.2em;padding-left: 0.2em;position: relative;}#sk-container-id-3 div.sk-item {position: relative;z-index: 1;}#sk-container-id-3 div.sk-parallel {display: flex;align-items: stretch;justify-content: center;background-color: white;position: relative;}#sk-container-id-3 div.sk-item::before, #sk-container-id-3 div.sk-parallel-item::before {content: \"\";position: absolute;border-left: 1px solid gray;box-sizing: border-box;top: 0;bottom: 0;left: 50%;z-index: -1;}#sk-container-id-3 div.sk-parallel-item {display: flex;flex-direction: column;z-index: 1;position: relative;background-color: white;}#sk-container-id-3 div.sk-parallel-item:first-child::after {align-self: flex-end;width: 50%;}#sk-container-id-3 div.sk-parallel-item:last-child::after {align-self: flex-start;width: 50%;}#sk-container-id-3 div.sk-parallel-item:only-child::after {width: 0;}#sk-container-id-3 div.sk-dashed-wrapped {border: 1px dashed gray;margin: 0 0.4em 0.5em 0.4em;box-sizing: border-box;padding-bottom: 0.4em;background-color: white;}#sk-container-id-3 div.sk-label label {font-family: monospace;font-weight: bold;display: inline-block;line-height: 1.2em;}#sk-container-id-3 div.sk-label-container {text-align: center;}#sk-container-id-3 div.sk-container {/* jupyter's `normalize.less` sets `[hidden] { display: none; }` but bootstrap.min.css set `[hidden] { display: none !important; }` so we also need the `!important` here to be able to override the default hidden behavior on the sphinx rendered scikit-learn.org. See: https://github.com/scikit-learn/scikit-learn/issues/21755 */display: inline-block !important;position: relative;}#sk-container-id-3 div.sk-text-repr-fallback {display: none;}</style><div id=\"sk-container-id-3\" class=\"sk-top-container\"><div class=\"sk-text-repr-fallback\"><pre>GridSearchCV(estimator=RandomForestClassifier(n_jobs=-1, random_state=50,\n",
       "                                              verbose=1),\n",
       "             param_grid={&#x27;n_estimators&#x27;: [150, 180]},\n",
       "             scoring=make_scorer(fbeta_score, beta=0.1))</pre><b>In a Jupyter environment, please rerun this cell to show the HTML representation or trust the notebook. <br />On GitHub, the HTML representation is unable to render, please try loading this page with nbviewer.org.</b></div><div class=\"sk-container\" hidden><div class=\"sk-item sk-dashed-wrapped\"><div class=\"sk-label-container\"><div class=\"sk-label sk-toggleable\"><input class=\"sk-toggleable__control sk-hidden--visually\" id=\"sk-estimator-id-5\" type=\"checkbox\" ><label for=\"sk-estimator-id-5\" class=\"sk-toggleable__label sk-toggleable__label-arrow\">GridSearchCV</label><div class=\"sk-toggleable__content\"><pre>GridSearchCV(estimator=RandomForestClassifier(n_jobs=-1, random_state=50,\n",
       "                                              verbose=1),\n",
       "             param_grid={&#x27;n_estimators&#x27;: [150, 180]},\n",
       "             scoring=make_scorer(fbeta_score, beta=0.1))</pre></div></div></div><div class=\"sk-parallel\"><div class=\"sk-parallel-item\"><div class=\"sk-item\"><div class=\"sk-label-container\"><div class=\"sk-label sk-toggleable\"><input class=\"sk-toggleable__control sk-hidden--visually\" id=\"sk-estimator-id-6\" type=\"checkbox\" ><label for=\"sk-estimator-id-6\" class=\"sk-toggleable__label sk-toggleable__label-arrow\">estimator: RandomForestClassifier</label><div class=\"sk-toggleable__content\"><pre>RandomForestClassifier(n_jobs=-1, random_state=50, verbose=1)</pre></div></div></div><div class=\"sk-serial\"><div class=\"sk-item\"><div class=\"sk-estimator sk-toggleable\"><input class=\"sk-toggleable__control sk-hidden--visually\" id=\"sk-estimator-id-7\" type=\"checkbox\" ><label for=\"sk-estimator-id-7\" class=\"sk-toggleable__label sk-toggleable__label-arrow\">RandomForestClassifier</label><div class=\"sk-toggleable__content\"><pre>RandomForestClassifier(n_jobs=-1, random_state=50, verbose=1)</pre></div></div></div></div></div></div></div></div></div></div>"
      ],
      "text/plain": [
       "GridSearchCV(estimator=RandomForestClassifier(n_jobs=-1, random_state=50,\n",
       "                                              verbose=1),\n",
       "             param_grid={'n_estimators': [150, 180]},\n",
       "             scoring=make_scorer(fbeta_score, beta=0.1))"
      ]
     },
     "execution_count": 28,
     "metadata": {},
     "output_type": "execute_result"
    }
   ],
   "source": [
    "grid.fit(train, train_labels)"
   ]
  },
  {
   "cell_type": "code",
   "execution_count": 29,
   "metadata": {
    "collapsed": false,
    "pycharm": {
     "name": "#%%\n"
    }
   },
   "outputs": [
    {
     "data": {
      "text/plain": [
       "{'n_estimators': 150}"
      ]
     },
     "execution_count": 29,
     "metadata": {},
     "output_type": "execute_result"
    }
   ],
   "source": [
    "grid.best_params_"
   ]
  },
  {
   "cell_type": "code",
   "execution_count": 30,
   "metadata": {
    "collapsed": false,
    "pycharm": {
     "name": "#%%\n"
    }
   },
   "outputs": [],
   "source": [
    "mlflow.set_tracking_uri(\"http://localhost:5000\")"
   ]
  },
  {
   "cell_type": "code",
   "execution_count": 31,
   "metadata": {
    "collapsed": false,
    "pycharm": {
     "name": "#%%\n"
    }
   },
   "outputs": [
    {
     "name": "stderr",
     "output_type": "stream",
     "text": [
      "[Parallel(n_jobs=-1)]: Using backend ThreadingBackend with 16 concurrent workers.\n",
      "[Parallel(n_jobs=-1)]: Done  18 tasks      | elapsed:   11.8s\n",
      "[Parallel(n_jobs=-1)]: Done 150 out of 150 | elapsed:  1.4min finished\n"
     ]
    }
   ],
   "source": [
    "with mlflow.start_run(experiment_id=exp_id, run_name=\"run_2\"):\n",
    "    n_estimators = grid.best_params_[\"n_estimators\"]\n",
    "    random_state = 150\n",
    "    verbose = 1\n",
    "    n_jobs = -1\n",
    "    mlflow.log_param(\"n_estimators\", n_estimators)\n",
    "    mlflow.log_param(\"random_state\", random_state)\n",
    "    mlflow.log_param(\"verbose\", verbose)\n",
    "    mlflow.log_param(\"n_jobs\", n_jobs)\n",
    "    random_forest = RandomForestClassifier(n_estimators=n_estimators, random_state=random_state, verbose=verbose, n_jobs=n_jobs)\n",
    "    random_forest.fit(train, train_labels)\n",
    "    mlflow.sklearn.autolog()\n",
    "# mlflow.sklearn.log_model(sk_model=random_forest, artifact_path=\"random_forest\")"
   ]
  },
  {
   "cell_type": "code",
   "execution_count": 32,
   "metadata": {
    "collapsed": false,
    "pycharm": {
     "name": "#%%\n"
    }
   },
   "outputs": [],
   "source": [
    "features = list(features_train.columns)"
   ]
  },
  {
   "cell_type": "code",
   "execution_count": 35,
   "metadata": {
    "collapsed": false,
    "pycharm": {
     "name": "#%%\n"
    }
   },
   "outputs": [],
   "source": [
    "feature_importance_values =random_forest.feature_importances_"
   ]
  },
  {
   "cell_type": "code",
   "execution_count": 36,
   "metadata": {
    "collapsed": false,
    "pycharm": {
     "name": "#%%\n"
    }
   },
   "outputs": [
    {
     "data": {
      "text/plain": [
       "(798, 795)"
      ]
     },
     "execution_count": 36,
     "metadata": {},
     "output_type": "execute_result"
    }
   ],
   "source": [
    "len(features), len(feature_importance_values)"
   ]
  },
  {
   "cell_type": "code",
   "execution_count": 37,
   "metadata": {
    "collapsed": false,
    "pycharm": {
     "name": "#%%\n"
    }
   },
   "outputs": [],
   "source": [
    "feature_importances = pd.DataFrame({'feature': features[3:], 'importance': feature_importance_values})"
   ]
  },
  {
   "cell_type": "code",
   "execution_count": 38,
   "metadata": {
    "collapsed": false,
    "pycharm": {
     "name": "#%%\n"
    }
   },
   "outputs": [
    {
     "data": {
      "text/plain": [
       "['index',\n",
       " 'SK_ID_CURR',\n",
       " 'TARGET',\n",
       " 'CODE_GENDER',\n",
       " 'FLAG_OWN_CAR',\n",
       " 'FLAG_OWN_REALTY',\n",
       " 'CNT_CHILDREN',\n",
       " 'AMT_INCOME_TOTAL',\n",
       " 'AMT_CREDIT',\n",
       " 'AMT_ANNUITY',\n",
       " 'AMT_GOODS_PRICE',\n",
       " 'REGION_POPULATION_RELATIVE',\n",
       " 'DAYS_BIRTH',\n",
       " 'DAYS_EMPLOYED',\n",
       " 'DAYS_REGISTRATION',\n",
       " 'DAYS_ID_PUBLISH',\n",
       " 'OWN_CAR_AGE',\n",
       " 'FLAG_MOBIL',\n",
       " 'FLAG_EMP_PHONE',\n",
       " 'FLAG_WORK_PHONE',\n",
       " 'FLAG_CONT_MOBILE',\n",
       " 'FLAG_PHONE',\n",
       " 'FLAG_EMAIL',\n",
       " 'CNT_FAM_MEMBERS',\n",
       " 'REGION_RATING_CLIENT',\n",
       " 'REGION_RATING_CLIENT_W_CITY',\n",
       " 'HOUR_APPR_PROCESS_START',\n",
       " 'REG_REGION_NOT_LIVE_REGION',\n",
       " 'REG_REGION_NOT_WORK_REGION',\n",
       " 'LIVE_REGION_NOT_WORK_REGION',\n",
       " 'REG_CITY_NOT_LIVE_CITY',\n",
       " 'REG_CITY_NOT_WORK_CITY',\n",
       " 'LIVE_CITY_NOT_WORK_CITY',\n",
       " 'EXT_SOURCE_1',\n",
       " 'EXT_SOURCE_2',\n",
       " 'EXT_SOURCE_3',\n",
       " 'APARTMENTS_AVG',\n",
       " 'BASEMENTAREA_AVG',\n",
       " 'YEARS_BEGINEXPLUATATION_AVG',\n",
       " 'YEARS_BUILD_AVG',\n",
       " 'COMMONAREA_AVG',\n",
       " 'ELEVATORS_AVG',\n",
       " 'ENTRANCES_AVG',\n",
       " 'FLOORSMAX_AVG',\n",
       " 'FLOORSMIN_AVG',\n",
       " 'LANDAREA_AVG',\n",
       " 'LIVINGAPARTMENTS_AVG',\n",
       " 'LIVINGAREA_AVG',\n",
       " 'NONLIVINGAPARTMENTS_AVG',\n",
       " 'NONLIVINGAREA_AVG',\n",
       " 'APARTMENTS_MODE',\n",
       " 'BASEMENTAREA_MODE',\n",
       " 'YEARS_BEGINEXPLUATATION_MODE',\n",
       " 'YEARS_BUILD_MODE',\n",
       " 'COMMONAREA_MODE',\n",
       " 'ELEVATORS_MODE',\n",
       " 'ENTRANCES_MODE',\n",
       " 'FLOORSMAX_MODE',\n",
       " 'FLOORSMIN_MODE',\n",
       " 'LANDAREA_MODE',\n",
       " 'LIVINGAPARTMENTS_MODE',\n",
       " 'LIVINGAREA_MODE',\n",
       " 'NONLIVINGAPARTMENTS_MODE',\n",
       " 'NONLIVINGAREA_MODE',\n",
       " 'APARTMENTS_MEDI',\n",
       " 'BASEMENTAREA_MEDI',\n",
       " 'YEARS_BEGINEXPLUATATION_MEDI',\n",
       " 'YEARS_BUILD_MEDI',\n",
       " 'COMMONAREA_MEDI',\n",
       " 'ELEVATORS_MEDI',\n",
       " 'ENTRANCES_MEDI',\n",
       " 'FLOORSMAX_MEDI',\n",
       " 'FLOORSMIN_MEDI',\n",
       " 'LANDAREA_MEDI',\n",
       " 'LIVINGAPARTMENTS_MEDI',\n",
       " 'LIVINGAREA_MEDI',\n",
       " 'NONLIVINGAPARTMENTS_MEDI',\n",
       " 'NONLIVINGAREA_MEDI',\n",
       " 'TOTALAREA_MODE',\n",
       " 'OBS_30_CNT_SOCIAL_CIRCLE',\n",
       " 'DEF_30_CNT_SOCIAL_CIRCLE',\n",
       " 'OBS_60_CNT_SOCIAL_CIRCLE',\n",
       " 'DEF_60_CNT_SOCIAL_CIRCLE',\n",
       " 'DAYS_LAST_PHONE_CHANGE',\n",
       " 'FLAG_DOCUMENT_2',\n",
       " 'FLAG_DOCUMENT_3',\n",
       " 'FLAG_DOCUMENT_4',\n",
       " 'FLAG_DOCUMENT_5',\n",
       " 'FLAG_DOCUMENT_6',\n",
       " 'FLAG_DOCUMENT_7',\n",
       " 'FLAG_DOCUMENT_8',\n",
       " 'FLAG_DOCUMENT_9',\n",
       " 'FLAG_DOCUMENT_10',\n",
       " 'FLAG_DOCUMENT_11',\n",
       " 'FLAG_DOCUMENT_12',\n",
       " 'FLAG_DOCUMENT_13',\n",
       " 'FLAG_DOCUMENT_14',\n",
       " 'FLAG_DOCUMENT_15',\n",
       " 'FLAG_DOCUMENT_16',\n",
       " 'FLAG_DOCUMENT_17',\n",
       " 'FLAG_DOCUMENT_18',\n",
       " 'FLAG_DOCUMENT_19',\n",
       " 'FLAG_DOCUMENT_20',\n",
       " 'FLAG_DOCUMENT_21',\n",
       " 'AMT_REQ_CREDIT_BUREAU_HOUR',\n",
       " 'AMT_REQ_CREDIT_BUREAU_DAY',\n",
       " 'AMT_REQ_CREDIT_BUREAU_WEEK',\n",
       " 'AMT_REQ_CREDIT_BUREAU_MON',\n",
       " 'AMT_REQ_CREDIT_BUREAU_QRT',\n",
       " 'AMT_REQ_CREDIT_BUREAU_YEAR',\n",
       " 'NAME_CONTRACT_TYPE_Cashloans',\n",
       " 'NAME_CONTRACT_TYPE_Revolvingloans',\n",
       " 'NAME_TYPE_SUITE_Children',\n",
       " 'NAME_TYPE_SUITE_Family',\n",
       " 'NAME_TYPE_SUITE_Groupofpeople',\n",
       " 'NAME_TYPE_SUITE_Other_A',\n",
       " 'NAME_TYPE_SUITE_Other_B',\n",
       " 'NAME_TYPE_SUITE_Spousepartner',\n",
       " 'NAME_TYPE_SUITE_Unaccompanied',\n",
       " 'NAME_INCOME_TYPE_Businessman',\n",
       " 'NAME_INCOME_TYPE_Commercialassociate',\n",
       " 'NAME_INCOME_TYPE_Maternityleave',\n",
       " 'NAME_INCOME_TYPE_Pensioner',\n",
       " 'NAME_INCOME_TYPE_Stateservant',\n",
       " 'NAME_INCOME_TYPE_Student',\n",
       " 'NAME_INCOME_TYPE_Unemployed',\n",
       " 'NAME_INCOME_TYPE_Working',\n",
       " 'NAME_EDUCATION_TYPE_Academicdegree',\n",
       " 'NAME_EDUCATION_TYPE_Highereducation',\n",
       " 'NAME_EDUCATION_TYPE_Incompletehigher',\n",
       " 'NAME_EDUCATION_TYPE_Lowersecondary',\n",
       " 'NAME_EDUCATION_TYPE_Secondarysecondaryspecial',\n",
       " 'NAME_FAMILY_STATUS_Civilmarriage',\n",
       " 'NAME_FAMILY_STATUS_Married',\n",
       " 'NAME_FAMILY_STATUS_Separated',\n",
       " 'NAME_FAMILY_STATUS_Singlenotmarried',\n",
       " 'NAME_FAMILY_STATUS_Unknown',\n",
       " 'NAME_FAMILY_STATUS_Widow',\n",
       " 'NAME_HOUSING_TYPE_Coopapartment',\n",
       " 'NAME_HOUSING_TYPE_Houseapartment',\n",
       " 'NAME_HOUSING_TYPE_Municipalapartment',\n",
       " 'NAME_HOUSING_TYPE_Officeapartment',\n",
       " 'NAME_HOUSING_TYPE_Rentedapartment',\n",
       " 'NAME_HOUSING_TYPE_Withparents',\n",
       " 'OCCUPATION_TYPE_Accountants',\n",
       " 'OCCUPATION_TYPE_Cleaningstaff',\n",
       " 'OCCUPATION_TYPE_Cookingstaff',\n",
       " 'OCCUPATION_TYPE_Corestaff',\n",
       " 'OCCUPATION_TYPE_Drivers',\n",
       " 'OCCUPATION_TYPE_HRstaff',\n",
       " 'OCCUPATION_TYPE_Highskilltechstaff',\n",
       " 'OCCUPATION_TYPE_ITstaff',\n",
       " 'OCCUPATION_TYPE_Laborers',\n",
       " 'OCCUPATION_TYPE_LowskillLaborers',\n",
       " 'OCCUPATION_TYPE_Managers',\n",
       " 'OCCUPATION_TYPE_Medicinestaff',\n",
       " 'OCCUPATION_TYPE_Privateservicestaff',\n",
       " 'OCCUPATION_TYPE_Realtyagents',\n",
       " 'OCCUPATION_TYPE_Salesstaff',\n",
       " 'OCCUPATION_TYPE_Secretaries',\n",
       " 'OCCUPATION_TYPE_Securitystaff',\n",
       " 'OCCUPATION_TYPE_Waitersbarmenstaff',\n",
       " 'WEEKDAY_APPR_PROCESS_START_FRIDAY',\n",
       " 'WEEKDAY_APPR_PROCESS_START_MONDAY',\n",
       " 'WEEKDAY_APPR_PROCESS_START_SATURDAY',\n",
       " 'WEEKDAY_APPR_PROCESS_START_SUNDAY',\n",
       " 'WEEKDAY_APPR_PROCESS_START_THURSDAY',\n",
       " 'WEEKDAY_APPR_PROCESS_START_TUESDAY',\n",
       " 'WEEKDAY_APPR_PROCESS_START_WEDNESDAY',\n",
       " 'ORGANIZATION_TYPE_Advertising',\n",
       " 'ORGANIZATION_TYPE_Agriculture',\n",
       " 'ORGANIZATION_TYPE_Bank',\n",
       " 'ORGANIZATION_TYPE_BusinessEntityType1',\n",
       " 'ORGANIZATION_TYPE_BusinessEntityType2',\n",
       " 'ORGANIZATION_TYPE_BusinessEntityType3',\n",
       " 'ORGANIZATION_TYPE_Cleaning',\n",
       " 'ORGANIZATION_TYPE_Construction',\n",
       " 'ORGANIZATION_TYPE_Culture',\n",
       " 'ORGANIZATION_TYPE_Electricity',\n",
       " 'ORGANIZATION_TYPE_Emergency',\n",
       " 'ORGANIZATION_TYPE_Government',\n",
       " 'ORGANIZATION_TYPE_Hotel',\n",
       " 'ORGANIZATION_TYPE_Housing',\n",
       " 'ORGANIZATION_TYPE_Industrytype1',\n",
       " 'ORGANIZATION_TYPE_Industrytype10',\n",
       " 'ORGANIZATION_TYPE_Industrytype11',\n",
       " 'ORGANIZATION_TYPE_Industrytype12',\n",
       " 'ORGANIZATION_TYPE_Industrytype13',\n",
       " 'ORGANIZATION_TYPE_Industrytype2',\n",
       " 'ORGANIZATION_TYPE_Industrytype3',\n",
       " 'ORGANIZATION_TYPE_Industrytype4',\n",
       " 'ORGANIZATION_TYPE_Industrytype5',\n",
       " 'ORGANIZATION_TYPE_Industrytype6',\n",
       " 'ORGANIZATION_TYPE_Industrytype7',\n",
       " 'ORGANIZATION_TYPE_Industrytype8',\n",
       " 'ORGANIZATION_TYPE_Industrytype9',\n",
       " 'ORGANIZATION_TYPE_Insurance',\n",
       " 'ORGANIZATION_TYPE_Kindergarten',\n",
       " 'ORGANIZATION_TYPE_LegalServices',\n",
       " 'ORGANIZATION_TYPE_Medicine',\n",
       " 'ORGANIZATION_TYPE_Military',\n",
       " 'ORGANIZATION_TYPE_Mobile',\n",
       " 'ORGANIZATION_TYPE_Other',\n",
       " 'ORGANIZATION_TYPE_Police',\n",
       " 'ORGANIZATION_TYPE_Postal',\n",
       " 'ORGANIZATION_TYPE_Realtor',\n",
       " 'ORGANIZATION_TYPE_Religion',\n",
       " 'ORGANIZATION_TYPE_Restaurant',\n",
       " 'ORGANIZATION_TYPE_School',\n",
       " 'ORGANIZATION_TYPE_Security',\n",
       " 'ORGANIZATION_TYPE_SecurityMinistries',\n",
       " 'ORGANIZATION_TYPE_Selfemployed',\n",
       " 'ORGANIZATION_TYPE_Services',\n",
       " 'ORGANIZATION_TYPE_Telecom',\n",
       " 'ORGANIZATION_TYPE_Tradetype1',\n",
       " 'ORGANIZATION_TYPE_Tradetype2',\n",
       " 'ORGANIZATION_TYPE_Tradetype3',\n",
       " 'ORGANIZATION_TYPE_Tradetype4',\n",
       " 'ORGANIZATION_TYPE_Tradetype5',\n",
       " 'ORGANIZATION_TYPE_Tradetype6',\n",
       " 'ORGANIZATION_TYPE_Tradetype7',\n",
       " 'ORGANIZATION_TYPE_Transporttype1',\n",
       " 'ORGANIZATION_TYPE_Transporttype2',\n",
       " 'ORGANIZATION_TYPE_Transporttype3',\n",
       " 'ORGANIZATION_TYPE_Transporttype4',\n",
       " 'ORGANIZATION_TYPE_University',\n",
       " 'ORGANIZATION_TYPE_XNA',\n",
       " 'FONDKAPREMONT_MODE_notspecified',\n",
       " 'FONDKAPREMONT_MODE_orgspecaccount',\n",
       " 'FONDKAPREMONT_MODE_regoperaccount',\n",
       " 'FONDKAPREMONT_MODE_regoperspecaccount',\n",
       " 'HOUSETYPE_MODE_blockofflats',\n",
       " 'HOUSETYPE_MODE_specifichousing',\n",
       " 'HOUSETYPE_MODE_terracedhouse',\n",
       " 'WALLSMATERIAL_MODE_Block',\n",
       " 'WALLSMATERIAL_MODE_Mixed',\n",
       " 'WALLSMATERIAL_MODE_Monolithic',\n",
       " 'WALLSMATERIAL_MODE_Others',\n",
       " 'WALLSMATERIAL_MODE_Panel',\n",
       " 'WALLSMATERIAL_MODE_Stonebrick',\n",
       " 'WALLSMATERIAL_MODE_Wooden',\n",
       " 'EMERGENCYSTATE_MODE_No',\n",
       " 'EMERGENCYSTATE_MODE_Yes',\n",
       " 'DAYS_EMPLOYED_PERC',\n",
       " 'INCOME_CREDIT_PERC',\n",
       " 'INCOME_PER_PERSON',\n",
       " 'ANNUITY_INCOME_PERC',\n",
       " 'PAYMENT_RATE',\n",
       " 'BURO_DAYS_CREDIT_MIN',\n",
       " 'BURO_DAYS_CREDIT_MAX',\n",
       " 'BURO_DAYS_CREDIT_MEAN',\n",
       " 'BURO_DAYS_CREDIT_VAR',\n",
       " 'BURO_DAYS_CREDIT_ENDDATE_MIN',\n",
       " 'BURO_DAYS_CREDIT_ENDDATE_MAX',\n",
       " 'BURO_DAYS_CREDIT_ENDDATE_MEAN',\n",
       " 'BURO_DAYS_CREDIT_UPDATE_MEAN',\n",
       " 'BURO_CREDIT_DAY_OVERDUE_MAX',\n",
       " 'BURO_CREDIT_DAY_OVERDUE_MEAN',\n",
       " 'BURO_AMT_CREDIT_MAX_OVERDUE_MEAN',\n",
       " 'BURO_AMT_CREDIT_SUM_MAX',\n",
       " 'BURO_AMT_CREDIT_SUM_MEAN',\n",
       " 'BURO_AMT_CREDIT_SUM_SUM',\n",
       " 'BURO_AMT_CREDIT_SUM_DEBT_MAX',\n",
       " 'BURO_AMT_CREDIT_SUM_DEBT_MEAN',\n",
       " 'BURO_AMT_CREDIT_SUM_DEBT_SUM',\n",
       " 'BURO_AMT_CREDIT_SUM_OVERDUE_MEAN',\n",
       " 'BURO_AMT_CREDIT_SUM_LIMIT_MEAN',\n",
       " 'BURO_AMT_CREDIT_SUM_LIMIT_SUM',\n",
       " 'BURO_AMT_ANNUITY_MAX',\n",
       " 'BURO_AMT_ANNUITY_MEAN',\n",
       " 'BURO_CNT_CREDIT_PROLONG_SUM',\n",
       " 'BURO_MONTHS_BALANCE_MIN_MIN',\n",
       " 'BURO_MONTHS_BALANCE_MAX_MAX',\n",
       " 'BURO_MONTHS_BALANCE_SIZE_MEAN',\n",
       " 'BURO_MONTHS_BALANCE_SIZE_SUM',\n",
       " 'BURO_CREDIT_ACTIVE_Active_MEAN',\n",
       " 'BURO_CREDIT_ACTIVE_Baddebt_MEAN',\n",
       " 'BURO_CREDIT_ACTIVE_Closed_MEAN',\n",
       " 'BURO_CREDIT_ACTIVE_Sold_MEAN',\n",
       " 'BURO_CREDIT_ACTIVE_nan_MEAN',\n",
       " 'BURO_CREDIT_CURRENCY_currency1_MEAN',\n",
       " 'BURO_CREDIT_CURRENCY_currency2_MEAN',\n",
       " 'BURO_CREDIT_CURRENCY_currency3_MEAN',\n",
       " 'BURO_CREDIT_CURRENCY_currency4_MEAN',\n",
       " 'BURO_CREDIT_CURRENCY_nan_MEAN',\n",
       " 'BURO_CREDIT_TYPE_Anothertypeofloan_MEAN',\n",
       " 'BURO_CREDIT_TYPE_Carloan_MEAN',\n",
       " 'BURO_CREDIT_TYPE_Cashloannonearmarked_MEAN',\n",
       " 'BURO_CREDIT_TYPE_Consumercredit_MEAN',\n",
       " 'BURO_CREDIT_TYPE_Creditcard_MEAN',\n",
       " 'BURO_CREDIT_TYPE_Interbankcredit_MEAN',\n",
       " 'BURO_CREDIT_TYPE_Loanforbusinessdevelopment_MEAN',\n",
       " 'BURO_CREDIT_TYPE_Loanforpurchaseofsharesmarginlending_MEAN',\n",
       " 'BURO_CREDIT_TYPE_Loanforthepurchaseofequipment_MEAN',\n",
       " 'BURO_CREDIT_TYPE_Loanforworkingcapitalreplenishment_MEAN',\n",
       " 'BURO_CREDIT_TYPE_Microloan_MEAN',\n",
       " 'BURO_CREDIT_TYPE_Mobileoperatorloan_MEAN',\n",
       " 'BURO_CREDIT_TYPE_Mortgage_MEAN',\n",
       " 'BURO_CREDIT_TYPE_Realestateloan_MEAN',\n",
       " 'BURO_CREDIT_TYPE_Unknowntypeofloan_MEAN',\n",
       " 'BURO_CREDIT_TYPE_nan_MEAN',\n",
       " 'BURO_STATUS_0_MEAN_MEAN',\n",
       " 'BURO_STATUS_1_MEAN_MEAN',\n",
       " 'BURO_STATUS_2_MEAN_MEAN',\n",
       " 'BURO_STATUS_3_MEAN_MEAN',\n",
       " 'BURO_STATUS_4_MEAN_MEAN',\n",
       " 'BURO_STATUS_5_MEAN_MEAN',\n",
       " 'BURO_STATUS_C_MEAN_MEAN',\n",
       " 'BURO_STATUS_X_MEAN_MEAN',\n",
       " 'BURO_STATUS_nan_MEAN_MEAN',\n",
       " 'ACTIVE_DAYS_CREDIT_MIN',\n",
       " 'ACTIVE_DAYS_CREDIT_MAX',\n",
       " 'ACTIVE_DAYS_CREDIT_MEAN',\n",
       " 'ACTIVE_DAYS_CREDIT_VAR',\n",
       " 'ACTIVE_DAYS_CREDIT_ENDDATE_MIN',\n",
       " 'ACTIVE_DAYS_CREDIT_ENDDATE_MAX',\n",
       " 'ACTIVE_DAYS_CREDIT_ENDDATE_MEAN',\n",
       " 'ACTIVE_DAYS_CREDIT_UPDATE_MEAN',\n",
       " 'ACTIVE_CREDIT_DAY_OVERDUE_MAX',\n",
       " 'ACTIVE_CREDIT_DAY_OVERDUE_MEAN',\n",
       " 'ACTIVE_AMT_CREDIT_MAX_OVERDUE_MEAN',\n",
       " 'ACTIVE_AMT_CREDIT_SUM_MAX',\n",
       " 'ACTIVE_AMT_CREDIT_SUM_MEAN',\n",
       " 'ACTIVE_AMT_CREDIT_SUM_SUM',\n",
       " 'ACTIVE_AMT_CREDIT_SUM_DEBT_MAX',\n",
       " 'ACTIVE_AMT_CREDIT_SUM_DEBT_MEAN',\n",
       " 'ACTIVE_AMT_CREDIT_SUM_DEBT_SUM',\n",
       " 'ACTIVE_AMT_CREDIT_SUM_OVERDUE_MEAN',\n",
       " 'ACTIVE_AMT_CREDIT_SUM_LIMIT_MEAN',\n",
       " 'ACTIVE_AMT_CREDIT_SUM_LIMIT_SUM',\n",
       " 'ACTIVE_AMT_ANNUITY_MAX',\n",
       " 'ACTIVE_AMT_ANNUITY_MEAN',\n",
       " 'ACTIVE_CNT_CREDIT_PROLONG_SUM',\n",
       " 'ACTIVE_MONTHS_BALANCE_MIN_MIN',\n",
       " 'ACTIVE_MONTHS_BALANCE_MAX_MAX',\n",
       " 'ACTIVE_MONTHS_BALANCE_SIZE_MEAN',\n",
       " 'ACTIVE_MONTHS_BALANCE_SIZE_SUM',\n",
       " 'CLOSED_DAYS_CREDIT_MIN',\n",
       " 'CLOSED_DAYS_CREDIT_MAX',\n",
       " 'CLOSED_DAYS_CREDIT_MEAN',\n",
       " 'CLOSED_DAYS_CREDIT_VAR',\n",
       " 'CLOSED_DAYS_CREDIT_ENDDATE_MIN',\n",
       " 'CLOSED_DAYS_CREDIT_ENDDATE_MAX',\n",
       " 'CLOSED_DAYS_CREDIT_ENDDATE_MEAN',\n",
       " 'CLOSED_DAYS_CREDIT_UPDATE_MEAN',\n",
       " 'CLOSED_CREDIT_DAY_OVERDUE_MAX',\n",
       " 'CLOSED_CREDIT_DAY_OVERDUE_MEAN',\n",
       " 'CLOSED_AMT_CREDIT_MAX_OVERDUE_MEAN',\n",
       " 'CLOSED_AMT_CREDIT_SUM_MAX',\n",
       " 'CLOSED_AMT_CREDIT_SUM_MEAN',\n",
       " 'CLOSED_AMT_CREDIT_SUM_SUM',\n",
       " 'CLOSED_AMT_CREDIT_SUM_DEBT_MAX',\n",
       " 'CLOSED_AMT_CREDIT_SUM_DEBT_MEAN',\n",
       " 'CLOSED_AMT_CREDIT_SUM_DEBT_SUM',\n",
       " 'CLOSED_AMT_CREDIT_SUM_OVERDUE_MEAN',\n",
       " 'CLOSED_AMT_CREDIT_SUM_LIMIT_MEAN',\n",
       " 'CLOSED_AMT_CREDIT_SUM_LIMIT_SUM',\n",
       " 'CLOSED_AMT_ANNUITY_MAX',\n",
       " 'CLOSED_AMT_ANNUITY_MEAN',\n",
       " 'CLOSED_CNT_CREDIT_PROLONG_SUM',\n",
       " 'CLOSED_MONTHS_BALANCE_MIN_MIN',\n",
       " 'CLOSED_MONTHS_BALANCE_MAX_MAX',\n",
       " 'CLOSED_MONTHS_BALANCE_SIZE_MEAN',\n",
       " 'CLOSED_MONTHS_BALANCE_SIZE_SUM',\n",
       " 'PREV_AMT_ANNUITY_MIN',\n",
       " 'PREV_AMT_ANNUITY_MAX',\n",
       " 'PREV_AMT_ANNUITY_MEAN',\n",
       " 'PREV_AMT_APPLICATION_MIN',\n",
       " 'PREV_AMT_APPLICATION_MAX',\n",
       " 'PREV_AMT_APPLICATION_MEAN',\n",
       " 'PREV_AMT_CREDIT_MIN',\n",
       " 'PREV_AMT_CREDIT_MAX',\n",
       " 'PREV_AMT_CREDIT_MEAN',\n",
       " 'PREV_APP_CREDIT_PERC_MIN',\n",
       " 'PREV_APP_CREDIT_PERC_MAX',\n",
       " 'PREV_APP_CREDIT_PERC_MEAN',\n",
       " 'PREV_APP_CREDIT_PERC_VAR',\n",
       " 'PREV_AMT_DOWN_PAYMENT_MIN',\n",
       " 'PREV_AMT_DOWN_PAYMENT_MAX',\n",
       " 'PREV_AMT_DOWN_PAYMENT_MEAN',\n",
       " 'PREV_AMT_GOODS_PRICE_MIN',\n",
       " 'PREV_AMT_GOODS_PRICE_MAX',\n",
       " 'PREV_AMT_GOODS_PRICE_MEAN',\n",
       " 'PREV_HOUR_APPR_PROCESS_START_MIN',\n",
       " 'PREV_HOUR_APPR_PROCESS_START_MAX',\n",
       " 'PREV_HOUR_APPR_PROCESS_START_MEAN',\n",
       " 'PREV_RATE_DOWN_PAYMENT_MIN',\n",
       " 'PREV_RATE_DOWN_PAYMENT_MAX',\n",
       " 'PREV_RATE_DOWN_PAYMENT_MEAN',\n",
       " 'PREV_DAYS_DECISION_MIN',\n",
       " 'PREV_DAYS_DECISION_MAX',\n",
       " 'PREV_DAYS_DECISION_MEAN',\n",
       " 'PREV_CNT_PAYMENT_MEAN',\n",
       " 'PREV_CNT_PAYMENT_SUM',\n",
       " 'PREV_NAME_CONTRACT_TYPE_Cashloans_MEAN',\n",
       " 'PREV_NAME_CONTRACT_TYPE_Consumerloans_MEAN',\n",
       " 'PREV_NAME_CONTRACT_TYPE_Revolvingloans_MEAN',\n",
       " 'PREV_NAME_CONTRACT_TYPE_XNA_MEAN',\n",
       " 'PREV_NAME_CONTRACT_TYPE_nan_MEAN',\n",
       " 'PREV_WEEKDAY_APPR_PROCESS_START_FRIDAY_MEAN',\n",
       " 'PREV_WEEKDAY_APPR_PROCESS_START_MONDAY_MEAN',\n",
       " 'PREV_WEEKDAY_APPR_PROCESS_START_SATURDAY_MEAN',\n",
       " 'PREV_WEEKDAY_APPR_PROCESS_START_SUNDAY_MEAN',\n",
       " 'PREV_WEEKDAY_APPR_PROCESS_START_THURSDAY_MEAN',\n",
       " 'PREV_WEEKDAY_APPR_PROCESS_START_TUESDAY_MEAN',\n",
       " 'PREV_WEEKDAY_APPR_PROCESS_START_WEDNESDAY_MEAN',\n",
       " 'PREV_WEEKDAY_APPR_PROCESS_START_nan_MEAN',\n",
       " 'PREV_FLAG_LAST_APPL_PER_CONTRACT_N_MEAN',\n",
       " 'PREV_FLAG_LAST_APPL_PER_CONTRACT_Y_MEAN',\n",
       " 'PREV_FLAG_LAST_APPL_PER_CONTRACT_nan_MEAN',\n",
       " 'PREV_NAME_CASH_LOAN_PURPOSE_Buildingahouseoranannex_MEAN',\n",
       " 'PREV_NAME_CASH_LOAN_PURPOSE_Businessdevelopment_MEAN',\n",
       " 'PREV_NAME_CASH_LOAN_PURPOSE_Buyingagarage_MEAN',\n",
       " 'PREV_NAME_CASH_LOAN_PURPOSE_Buyingaholidayhomeland_MEAN',\n",
       " 'PREV_NAME_CASH_LOAN_PURPOSE_Buyingahome_MEAN',\n",
       " 'PREV_NAME_CASH_LOAN_PURPOSE_Buyinganewcar_MEAN',\n",
       " 'PREV_NAME_CASH_LOAN_PURPOSE_Buyingausedcar_MEAN',\n",
       " 'PREV_NAME_CASH_LOAN_PURPOSE_Carrepairs_MEAN',\n",
       " 'PREV_NAME_CASH_LOAN_PURPOSE_Education_MEAN',\n",
       " 'PREV_NAME_CASH_LOAN_PURPOSE_Everydayexpenses_MEAN',\n",
       " 'PREV_NAME_CASH_LOAN_PURPOSE_Furniture_MEAN',\n",
       " 'PREV_NAME_CASH_LOAN_PURPOSE_Gasificationwatersupply_MEAN',\n",
       " 'PREV_NAME_CASH_LOAN_PURPOSE_Hobby_MEAN',\n",
       " 'PREV_NAME_CASH_LOAN_PURPOSE_Journey_MEAN',\n",
       " 'PREV_NAME_CASH_LOAN_PURPOSE_Medicine_MEAN',\n",
       " 'PREV_NAME_CASH_LOAN_PURPOSE_Moneyforathirdperson_MEAN',\n",
       " 'PREV_NAME_CASH_LOAN_PURPOSE_Other_MEAN',\n",
       " 'PREV_NAME_CASH_LOAN_PURPOSE_Paymentsonotherloans_MEAN',\n",
       " 'PREV_NAME_CASH_LOAN_PURPOSE_Purchaseofelectronicequipment_MEAN',\n",
       " 'PREV_NAME_CASH_LOAN_PURPOSE_Refusaltonamethegoal_MEAN',\n",
       " 'PREV_NAME_CASH_LOAN_PURPOSE_Repairs_MEAN',\n",
       " 'PREV_NAME_CASH_LOAN_PURPOSE_Urgentneeds_MEAN',\n",
       " 'PREV_NAME_CASH_LOAN_PURPOSE_Weddinggiftholiday_MEAN',\n",
       " 'PREV_NAME_CASH_LOAN_PURPOSE_XAP_MEAN',\n",
       " 'PREV_NAME_CASH_LOAN_PURPOSE_XNA_MEAN',\n",
       " 'PREV_NAME_CASH_LOAN_PURPOSE_nan_MEAN',\n",
       " 'PREV_NAME_CONTRACT_STATUS_Approved_MEAN',\n",
       " 'PREV_NAME_CONTRACT_STATUS_Canceled_MEAN',\n",
       " 'PREV_NAME_CONTRACT_STATUS_Refused_MEAN',\n",
       " 'PREV_NAME_CONTRACT_STATUS_Unusedoffer_MEAN',\n",
       " 'PREV_NAME_CONTRACT_STATUS_nan_MEAN',\n",
       " 'PREV_NAME_PAYMENT_TYPE_Cashthroughthebank_MEAN',\n",
       " 'PREV_NAME_PAYMENT_TYPE_Cashlessfromtheaccountoftheemployer_MEAN',\n",
       " 'PREV_NAME_PAYMENT_TYPE_Noncashfromyouraccount_MEAN',\n",
       " 'PREV_NAME_PAYMENT_TYPE_XNA_MEAN',\n",
       " 'PREV_NAME_PAYMENT_TYPE_nan_MEAN',\n",
       " 'PREV_CODE_REJECT_REASON_CLIENT_MEAN',\n",
       " 'PREV_CODE_REJECT_REASON_HC_MEAN',\n",
       " 'PREV_CODE_REJECT_REASON_LIMIT_MEAN',\n",
       " 'PREV_CODE_REJECT_REASON_SCO_MEAN',\n",
       " 'PREV_CODE_REJECT_REASON_SCOFR_MEAN',\n",
       " 'PREV_CODE_REJECT_REASON_SYSTEM_MEAN',\n",
       " 'PREV_CODE_REJECT_REASON_VERIF_MEAN',\n",
       " 'PREV_CODE_REJECT_REASON_XAP_MEAN',\n",
       " 'PREV_CODE_REJECT_REASON_XNA_MEAN',\n",
       " 'PREV_CODE_REJECT_REASON_nan_MEAN',\n",
       " 'PREV_NAME_TYPE_SUITE_Children_MEAN',\n",
       " 'PREV_NAME_TYPE_SUITE_Family_MEAN',\n",
       " 'PREV_NAME_TYPE_SUITE_Groupofpeople_MEAN',\n",
       " 'PREV_NAME_TYPE_SUITE_Other_A_MEAN',\n",
       " 'PREV_NAME_TYPE_SUITE_Other_B_MEAN',\n",
       " 'PREV_NAME_TYPE_SUITE_Spousepartner_MEAN',\n",
       " 'PREV_NAME_TYPE_SUITE_Unaccompanied_MEAN',\n",
       " 'PREV_NAME_TYPE_SUITE_nan_MEAN',\n",
       " 'PREV_NAME_CLIENT_TYPE_New_MEAN',\n",
       " 'PREV_NAME_CLIENT_TYPE_Refreshed_MEAN',\n",
       " 'PREV_NAME_CLIENT_TYPE_Repeater_MEAN',\n",
       " 'PREV_NAME_CLIENT_TYPE_XNA_MEAN',\n",
       " 'PREV_NAME_CLIENT_TYPE_nan_MEAN',\n",
       " 'PREV_NAME_GOODS_CATEGORY_AdditionalService_MEAN',\n",
       " 'PREV_NAME_GOODS_CATEGORY_Animals_MEAN',\n",
       " 'PREV_NAME_GOODS_CATEGORY_AudioVideo_MEAN',\n",
       " 'PREV_NAME_GOODS_CATEGORY_AutoAccessories_MEAN',\n",
       " 'PREV_NAME_GOODS_CATEGORY_ClothingandAccessories_MEAN',\n",
       " 'PREV_NAME_GOODS_CATEGORY_Computers_MEAN',\n",
       " 'PREV_NAME_GOODS_CATEGORY_ConstructionMaterials_MEAN',\n",
       " 'PREV_NAME_GOODS_CATEGORY_ConsumerElectronics_MEAN',\n",
       " 'PREV_NAME_GOODS_CATEGORY_DirectSales_MEAN',\n",
       " 'PREV_NAME_GOODS_CATEGORY_Education_MEAN',\n",
       " 'PREV_NAME_GOODS_CATEGORY_Fitness_MEAN',\n",
       " 'PREV_NAME_GOODS_CATEGORY_Furniture_MEAN',\n",
       " 'PREV_NAME_GOODS_CATEGORY_Gardening_MEAN',\n",
       " 'PREV_NAME_GOODS_CATEGORY_Homewares_MEAN',\n",
       " 'PREV_NAME_GOODS_CATEGORY_HouseConstruction_MEAN',\n",
       " 'PREV_NAME_GOODS_CATEGORY_Insurance_MEAN',\n",
       " 'PREV_NAME_GOODS_CATEGORY_Jewelry_MEAN',\n",
       " 'PREV_NAME_GOODS_CATEGORY_MedicalSupplies_MEAN',\n",
       " 'PREV_NAME_GOODS_CATEGORY_Medicine_MEAN',\n",
       " 'PREV_NAME_GOODS_CATEGORY_Mobile_MEAN',\n",
       " 'PREV_NAME_GOODS_CATEGORY_OfficeAppliances_MEAN',\n",
       " 'PREV_NAME_GOODS_CATEGORY_Other_MEAN',\n",
       " 'PREV_NAME_GOODS_CATEGORY_PhotoCinemaEquipment_MEAN',\n",
       " 'PREV_NAME_GOODS_CATEGORY_SportandLeisure_MEAN',\n",
       " 'PREV_NAME_GOODS_CATEGORY_Tourism_MEAN',\n",
       " 'PREV_NAME_GOODS_CATEGORY_Vehicles_MEAN',\n",
       " 'PREV_NAME_GOODS_CATEGORY_Weapon_MEAN',\n",
       " 'PREV_NAME_GOODS_CATEGORY_XNA_MEAN',\n",
       " 'PREV_NAME_GOODS_CATEGORY_nan_MEAN',\n",
       " 'PREV_NAME_PORTFOLIO_Cards_MEAN',\n",
       " 'PREV_NAME_PORTFOLIO_Cars_MEAN',\n",
       " 'PREV_NAME_PORTFOLIO_Cash_MEAN',\n",
       " 'PREV_NAME_PORTFOLIO_POS_MEAN',\n",
       " 'PREV_NAME_PORTFOLIO_XNA_MEAN',\n",
       " 'PREV_NAME_PORTFOLIO_nan_MEAN',\n",
       " 'PREV_NAME_PRODUCT_TYPE_XNA_MEAN',\n",
       " 'PREV_NAME_PRODUCT_TYPE_walkin_MEAN',\n",
       " 'PREV_NAME_PRODUCT_TYPE_xsell_MEAN',\n",
       " 'PREV_NAME_PRODUCT_TYPE_nan_MEAN',\n",
       " 'PREV_CHANNEL_TYPE_APCashloan_MEAN',\n",
       " 'PREV_CHANNEL_TYPE_Cardealer_MEAN',\n",
       " 'PREV_CHANNEL_TYPE_Channelofcorporatesales_MEAN',\n",
       " 'PREV_CHANNEL_TYPE_Contactcenter_MEAN',\n",
       " 'PREV_CHANNEL_TYPE_Countrywide_MEAN',\n",
       " 'PREV_CHANNEL_TYPE_Creditandcashoffices_MEAN',\n",
       " 'PREV_CHANNEL_TYPE_RegionalLocal_MEAN',\n",
       " 'PREV_CHANNEL_TYPE_Stone_MEAN',\n",
       " 'PREV_CHANNEL_TYPE_nan_MEAN',\n",
       " 'PREV_NAME_SELLER_INDUSTRY_Autotechnology_MEAN',\n",
       " 'PREV_NAME_SELLER_INDUSTRY_Clothing_MEAN',\n",
       " 'PREV_NAME_SELLER_INDUSTRY_Connectivity_MEAN',\n",
       " 'PREV_NAME_SELLER_INDUSTRY_Construction_MEAN',\n",
       " 'PREV_NAME_SELLER_INDUSTRY_Consumerelectronics_MEAN',\n",
       " 'PREV_NAME_SELLER_INDUSTRY_Furniture_MEAN',\n",
       " 'PREV_NAME_SELLER_INDUSTRY_Industry_MEAN',\n",
       " 'PREV_NAME_SELLER_INDUSTRY_Jewelry_MEAN',\n",
       " 'PREV_NAME_SELLER_INDUSTRY_MLMpartners_MEAN',\n",
       " 'PREV_NAME_SELLER_INDUSTRY_Tourism_MEAN',\n",
       " 'PREV_NAME_SELLER_INDUSTRY_XNA_MEAN',\n",
       " 'PREV_NAME_SELLER_INDUSTRY_nan_MEAN',\n",
       " 'PREV_NAME_YIELD_GROUP_XNA_MEAN',\n",
       " 'PREV_NAME_YIELD_GROUP_high_MEAN',\n",
       " 'PREV_NAME_YIELD_GROUP_low_action_MEAN',\n",
       " 'PREV_NAME_YIELD_GROUP_low_normal_MEAN',\n",
       " 'PREV_NAME_YIELD_GROUP_middle_MEAN',\n",
       " 'PREV_NAME_YIELD_GROUP_nan_MEAN',\n",
       " 'PREV_PRODUCT_COMBINATION_CardStreet_MEAN',\n",
       " 'PREV_PRODUCT_COMBINATION_CardXSell_MEAN',\n",
       " 'PREV_PRODUCT_COMBINATION_Cash_MEAN',\n",
       " 'PREV_PRODUCT_COMBINATION_CashStreethigh_MEAN',\n",
       " 'PREV_PRODUCT_COMBINATION_CashStreetlow_MEAN',\n",
       " 'PREV_PRODUCT_COMBINATION_CashStreetmiddle_MEAN',\n",
       " 'PREV_PRODUCT_COMBINATION_CashXSellhigh_MEAN',\n",
       " 'PREV_PRODUCT_COMBINATION_CashXSelllow_MEAN',\n",
       " 'PREV_PRODUCT_COMBINATION_CashXSellmiddle_MEAN',\n",
       " 'PREV_PRODUCT_COMBINATION_POShouseholdwithinterest_MEAN',\n",
       " 'PREV_PRODUCT_COMBINATION_POShouseholdwithoutinterest_MEAN',\n",
       " 'PREV_PRODUCT_COMBINATION_POSindustrywithinterest_MEAN',\n",
       " 'PREV_PRODUCT_COMBINATION_POSindustrywithoutinterest_MEAN',\n",
       " 'PREV_PRODUCT_COMBINATION_POSmobilewithinterest_MEAN',\n",
       " 'PREV_PRODUCT_COMBINATION_POSmobilewithoutinterest_MEAN',\n",
       " 'PREV_PRODUCT_COMBINATION_POSotherwithinterest_MEAN',\n",
       " 'PREV_PRODUCT_COMBINATION_POSotherswithoutinterest_MEAN',\n",
       " 'PREV_PRODUCT_COMBINATION_nan_MEAN',\n",
       " 'APPROVED_AMT_ANNUITY_MIN',\n",
       " 'APPROVED_AMT_ANNUITY_MAX',\n",
       " 'APPROVED_AMT_ANNUITY_MEAN',\n",
       " 'APPROVED_AMT_APPLICATION_MIN',\n",
       " 'APPROVED_AMT_APPLICATION_MAX',\n",
       " 'APPROVED_AMT_APPLICATION_MEAN',\n",
       " 'APPROVED_AMT_CREDIT_MIN',\n",
       " 'APPROVED_AMT_CREDIT_MAX',\n",
       " 'APPROVED_AMT_CREDIT_MEAN',\n",
       " 'APPROVED_APP_CREDIT_PERC_MIN',\n",
       " 'APPROVED_APP_CREDIT_PERC_MAX',\n",
       " 'APPROVED_APP_CREDIT_PERC_MEAN',\n",
       " 'APPROVED_APP_CREDIT_PERC_VAR',\n",
       " 'APPROVED_AMT_DOWN_PAYMENT_MIN',\n",
       " 'APPROVED_AMT_DOWN_PAYMENT_MAX',\n",
       " 'APPROVED_AMT_DOWN_PAYMENT_MEAN',\n",
       " 'APPROVED_AMT_GOODS_PRICE_MIN',\n",
       " 'APPROVED_AMT_GOODS_PRICE_MAX',\n",
       " 'APPROVED_AMT_GOODS_PRICE_MEAN',\n",
       " 'APPROVED_HOUR_APPR_PROCESS_START_MIN',\n",
       " 'APPROVED_HOUR_APPR_PROCESS_START_MAX',\n",
       " 'APPROVED_HOUR_APPR_PROCESS_START_MEAN',\n",
       " 'APPROVED_RATE_DOWN_PAYMENT_MIN',\n",
       " 'APPROVED_RATE_DOWN_PAYMENT_MAX',\n",
       " 'APPROVED_RATE_DOWN_PAYMENT_MEAN',\n",
       " 'APPROVED_DAYS_DECISION_MIN',\n",
       " 'APPROVED_DAYS_DECISION_MAX',\n",
       " 'APPROVED_DAYS_DECISION_MEAN',\n",
       " 'APPROVED_CNT_PAYMENT_MEAN',\n",
       " 'APPROVED_CNT_PAYMENT_SUM',\n",
       " 'REFUSED_AMT_ANNUITY_MIN',\n",
       " 'REFUSED_AMT_ANNUITY_MAX',\n",
       " 'REFUSED_AMT_ANNUITY_MEAN',\n",
       " 'REFUSED_AMT_APPLICATION_MIN',\n",
       " 'REFUSED_AMT_APPLICATION_MAX',\n",
       " 'REFUSED_AMT_APPLICATION_MEAN',\n",
       " 'REFUSED_AMT_CREDIT_MIN',\n",
       " 'REFUSED_AMT_CREDIT_MAX',\n",
       " 'REFUSED_AMT_CREDIT_MEAN',\n",
       " 'REFUSED_APP_CREDIT_PERC_MIN',\n",
       " 'REFUSED_APP_CREDIT_PERC_MAX',\n",
       " 'REFUSED_APP_CREDIT_PERC_MEAN',\n",
       " 'REFUSED_APP_CREDIT_PERC_VAR',\n",
       " 'REFUSED_AMT_DOWN_PAYMENT_MIN',\n",
       " 'REFUSED_AMT_DOWN_PAYMENT_MAX',\n",
       " 'REFUSED_AMT_DOWN_PAYMENT_MEAN',\n",
       " 'REFUSED_AMT_GOODS_PRICE_MIN',\n",
       " 'REFUSED_AMT_GOODS_PRICE_MAX',\n",
       " 'REFUSED_AMT_GOODS_PRICE_MEAN',\n",
       " 'REFUSED_HOUR_APPR_PROCESS_START_MIN',\n",
       " 'REFUSED_HOUR_APPR_PROCESS_START_MAX',\n",
       " 'REFUSED_HOUR_APPR_PROCESS_START_MEAN',\n",
       " 'REFUSED_RATE_DOWN_PAYMENT_MIN',\n",
       " 'REFUSED_RATE_DOWN_PAYMENT_MAX',\n",
       " 'REFUSED_RATE_DOWN_PAYMENT_MEAN',\n",
       " 'REFUSED_DAYS_DECISION_MIN',\n",
       " 'REFUSED_DAYS_DECISION_MAX',\n",
       " 'REFUSED_DAYS_DECISION_MEAN',\n",
       " 'REFUSED_CNT_PAYMENT_MEAN',\n",
       " 'REFUSED_CNT_PAYMENT_SUM',\n",
       " 'POS_MONTHS_BALANCE_MAX',\n",
       " 'POS_MONTHS_BALANCE_MEAN',\n",
       " 'POS_MONTHS_BALANCE_SIZE',\n",
       " 'POS_SK_DPD_MAX',\n",
       " 'POS_SK_DPD_MEAN',\n",
       " 'POS_SK_DPD_DEF_MAX',\n",
       " 'POS_SK_DPD_DEF_MEAN',\n",
       " 'POS_NAME_CONTRACT_STATUS_Active_MEAN',\n",
       " 'POS_NAME_CONTRACT_STATUS_Amortizeddebt_MEAN',\n",
       " 'POS_NAME_CONTRACT_STATUS_Approved_MEAN',\n",
       " 'POS_NAME_CONTRACT_STATUS_Canceled_MEAN',\n",
       " 'POS_NAME_CONTRACT_STATUS_Completed_MEAN',\n",
       " 'POS_NAME_CONTRACT_STATUS_Demand_MEAN',\n",
       " 'POS_NAME_CONTRACT_STATUS_Returnedtothestore_MEAN',\n",
       " 'POS_NAME_CONTRACT_STATUS_Signed_MEAN',\n",
       " 'POS_NAME_CONTRACT_STATUS_XNA_MEAN',\n",
       " 'POS_NAME_CONTRACT_STATUS_nan_MEAN',\n",
       " 'POS_COUNT',\n",
       " 'INSTAL_NUM_INSTALMENT_VERSION_NUNIQUE',\n",
       " 'INSTAL_DPD_MAX',\n",
       " 'INSTAL_DPD_MEAN',\n",
       " 'INSTAL_DPD_SUM',\n",
       " 'INSTAL_DBD_MAX',\n",
       " 'INSTAL_DBD_MEAN',\n",
       " 'INSTAL_DBD_SUM',\n",
       " 'INSTAL_PAYMENT_PERC_MAX',\n",
       " 'INSTAL_PAYMENT_PERC_MEAN',\n",
       " 'INSTAL_PAYMENT_PERC_SUM',\n",
       " 'INSTAL_PAYMENT_PERC_VAR',\n",
       " 'INSTAL_PAYMENT_DIFF_MAX',\n",
       " 'INSTAL_PAYMENT_DIFF_MEAN',\n",
       " 'INSTAL_PAYMENT_DIFF_SUM',\n",
       " 'INSTAL_PAYMENT_DIFF_VAR',\n",
       " 'INSTAL_AMT_INSTALMENT_MAX',\n",
       " 'INSTAL_AMT_INSTALMENT_MEAN',\n",
       " 'INSTAL_AMT_INSTALMENT_SUM',\n",
       " 'INSTAL_AMT_PAYMENT_MIN',\n",
       " 'INSTAL_AMT_PAYMENT_MAX',\n",
       " 'INSTAL_AMT_PAYMENT_MEAN',\n",
       " 'INSTAL_AMT_PAYMENT_SUM',\n",
       " 'INSTAL_DAYS_ENTRY_PAYMENT_MAX',\n",
       " 'INSTAL_DAYS_ENTRY_PAYMENT_MEAN',\n",
       " 'INSTAL_DAYS_ENTRY_PAYMENT_SUM',\n",
       " 'INSTAL_COUNT',\n",
       " 'CC_MONTHS_BALANCE_MIN',\n",
       " 'CC_MONTHS_BALANCE_MAX',\n",
       " 'CC_MONTHS_BALANCE_MEAN',\n",
       " 'CC_MONTHS_BALANCE_SUM',\n",
       " 'CC_MONTHS_BALANCE_VAR',\n",
       " 'CC_AMT_BALANCE_MIN',\n",
       " 'CC_AMT_BALANCE_MAX',\n",
       " 'CC_AMT_BALANCE_MEAN',\n",
       " 'CC_AMT_BALANCE_SUM',\n",
       " 'CC_AMT_BALANCE_VAR',\n",
       " 'CC_AMT_CREDIT_LIMIT_ACTUAL_MIN',\n",
       " 'CC_AMT_CREDIT_LIMIT_ACTUAL_MAX',\n",
       " 'CC_AMT_CREDIT_LIMIT_ACTUAL_MEAN',\n",
       " 'CC_AMT_CREDIT_LIMIT_ACTUAL_SUM',\n",
       " 'CC_AMT_CREDIT_LIMIT_ACTUAL_VAR',\n",
       " 'CC_AMT_DRAWINGS_ATM_CURRENT_MIN',\n",
       " 'CC_AMT_DRAWINGS_ATM_CURRENT_MAX',\n",
       " 'CC_AMT_DRAWINGS_ATM_CURRENT_MEAN',\n",
       " 'CC_AMT_DRAWINGS_ATM_CURRENT_SUM',\n",
       " 'CC_AMT_DRAWINGS_ATM_CURRENT_VAR',\n",
       " 'CC_AMT_DRAWINGS_CURRENT_MIN',\n",
       " 'CC_AMT_DRAWINGS_CURRENT_MAX',\n",
       " 'CC_AMT_DRAWINGS_CURRENT_MEAN',\n",
       " 'CC_AMT_DRAWINGS_CURRENT_SUM',\n",
       " 'CC_AMT_DRAWINGS_CURRENT_VAR',\n",
       " 'CC_AMT_DRAWINGS_OTHER_CURRENT_MIN',\n",
       " 'CC_AMT_DRAWINGS_OTHER_CURRENT_MAX',\n",
       " 'CC_AMT_DRAWINGS_OTHER_CURRENT_MEAN',\n",
       " 'CC_AMT_DRAWINGS_OTHER_CURRENT_SUM',\n",
       " 'CC_AMT_DRAWINGS_OTHER_CURRENT_VAR',\n",
       " 'CC_AMT_DRAWINGS_POS_CURRENT_MIN',\n",
       " 'CC_AMT_DRAWINGS_POS_CURRENT_MAX',\n",
       " 'CC_AMT_DRAWINGS_POS_CURRENT_MEAN',\n",
       " 'CC_AMT_DRAWINGS_POS_CURRENT_SUM',\n",
       " 'CC_AMT_DRAWINGS_POS_CURRENT_VAR',\n",
       " 'CC_AMT_INST_MIN_REGULARITY_MIN',\n",
       " 'CC_AMT_INST_MIN_REGULARITY_MAX',\n",
       " 'CC_AMT_INST_MIN_REGULARITY_MEAN',\n",
       " 'CC_AMT_INST_MIN_REGULARITY_SUM',\n",
       " 'CC_AMT_INST_MIN_REGULARITY_VAR',\n",
       " 'CC_AMT_PAYMENT_CURRENT_MIN',\n",
       " 'CC_AMT_PAYMENT_CURRENT_MAX',\n",
       " 'CC_AMT_PAYMENT_CURRENT_MEAN',\n",
       " 'CC_AMT_PAYMENT_CURRENT_SUM',\n",
       " 'CC_AMT_PAYMENT_CURRENT_VAR',\n",
       " 'CC_AMT_PAYMENT_TOTAL_CURRENT_MIN',\n",
       " 'CC_AMT_PAYMENT_TOTAL_CURRENT_MAX',\n",
       " 'CC_AMT_PAYMENT_TOTAL_CURRENT_MEAN',\n",
       " 'CC_AMT_PAYMENT_TOTAL_CURRENT_SUM',\n",
       " 'CC_AMT_PAYMENT_TOTAL_CURRENT_VAR',\n",
       " 'CC_AMT_RECEIVABLE_PRINCIPAL_MIN',\n",
       " 'CC_AMT_RECEIVABLE_PRINCIPAL_MAX',\n",
       " 'CC_AMT_RECEIVABLE_PRINCIPAL_MEAN',\n",
       " 'CC_AMT_RECEIVABLE_PRINCIPAL_SUM',\n",
       " 'CC_AMT_RECEIVABLE_PRINCIPAL_VAR',\n",
       " 'CC_AMT_RECIVABLE_MIN',\n",
       " 'CC_AMT_RECIVABLE_MAX',\n",
       " 'CC_AMT_RECIVABLE_MEAN',\n",
       " 'CC_AMT_RECIVABLE_SUM',\n",
       " 'CC_AMT_RECIVABLE_VAR',\n",
       " 'CC_AMT_TOTAL_RECEIVABLE_MIN',\n",
       " 'CC_AMT_TOTAL_RECEIVABLE_MAX',\n",
       " 'CC_AMT_TOTAL_RECEIVABLE_MEAN',\n",
       " 'CC_AMT_TOTAL_RECEIVABLE_SUM',\n",
       " 'CC_AMT_TOTAL_RECEIVABLE_VAR',\n",
       " 'CC_CNT_DRAWINGS_ATM_CURRENT_MIN',\n",
       " 'CC_CNT_DRAWINGS_ATM_CURRENT_MAX',\n",
       " 'CC_CNT_DRAWINGS_ATM_CURRENT_MEAN',\n",
       " 'CC_CNT_DRAWINGS_ATM_CURRENT_SUM',\n",
       " 'CC_CNT_DRAWINGS_ATM_CURRENT_VAR',\n",
       " 'CC_CNT_DRAWINGS_CURRENT_MIN',\n",
       " 'CC_CNT_DRAWINGS_CURRENT_MAX',\n",
       " 'CC_CNT_DRAWINGS_CURRENT_MEAN',\n",
       " 'CC_CNT_DRAWINGS_CURRENT_SUM',\n",
       " 'CC_CNT_DRAWINGS_CURRENT_VAR',\n",
       " 'CC_CNT_DRAWINGS_OTHER_CURRENT_MIN',\n",
       " 'CC_CNT_DRAWINGS_OTHER_CURRENT_MAX',\n",
       " 'CC_CNT_DRAWINGS_OTHER_CURRENT_MEAN',\n",
       " 'CC_CNT_DRAWINGS_OTHER_CURRENT_SUM',\n",
       " 'CC_CNT_DRAWINGS_OTHER_CURRENT_VAR',\n",
       " 'CC_CNT_DRAWINGS_POS_CURRENT_MIN',\n",
       " 'CC_CNT_DRAWINGS_POS_CURRENT_MAX',\n",
       " 'CC_CNT_DRAWINGS_POS_CURRENT_MEAN',\n",
       " 'CC_CNT_DRAWINGS_POS_CURRENT_SUM',\n",
       " 'CC_CNT_DRAWINGS_POS_CURRENT_VAR',\n",
       " 'CC_CNT_INSTALMENT_MATURE_CUM_MIN',\n",
       " 'CC_CNT_INSTALMENT_MATURE_CUM_MAX',\n",
       " 'CC_CNT_INSTALMENT_MATURE_CUM_MEAN',\n",
       " 'CC_CNT_INSTALMENT_MATURE_CUM_SUM',\n",
       " 'CC_CNT_INSTALMENT_MATURE_CUM_VAR',\n",
       " 'CC_SK_DPD_MIN',\n",
       " 'CC_SK_DPD_MAX',\n",
       " 'CC_SK_DPD_MEAN',\n",
       " 'CC_SK_DPD_SUM',\n",
       " 'CC_SK_DPD_VAR',\n",
       " 'CC_SK_DPD_DEF_MIN',\n",
       " 'CC_SK_DPD_DEF_MAX',\n",
       " 'CC_SK_DPD_DEF_MEAN',\n",
       " 'CC_SK_DPD_DEF_SUM',\n",
       " 'CC_SK_DPD_DEF_VAR',\n",
       " 'CC_NAME_CONTRACT_STATUS_Active_MIN',\n",
       " 'CC_NAME_CONTRACT_STATUS_Active_MAX',\n",
       " 'CC_NAME_CONTRACT_STATUS_Active_MEAN',\n",
       " 'CC_NAME_CONTRACT_STATUS_Active_SUM',\n",
       " 'CC_NAME_CONTRACT_STATUS_Active_VAR',\n",
       " 'CC_NAME_CONTRACT_STATUS_Approved_MIN',\n",
       " 'CC_NAME_CONTRACT_STATUS_Approved_MAX',\n",
       " 'CC_NAME_CONTRACT_STATUS_Approved_MEAN',\n",
       " 'CC_NAME_CONTRACT_STATUS_Approved_SUM',\n",
       " 'CC_NAME_CONTRACT_STATUS_Approved_VAR',\n",
       " 'CC_NAME_CONTRACT_STATUS_Completed_MIN',\n",
       " 'CC_NAME_CONTRACT_STATUS_Completed_MAX',\n",
       " 'CC_NAME_CONTRACT_STATUS_Completed_MEAN',\n",
       " 'CC_NAME_CONTRACT_STATUS_Completed_SUM',\n",
       " 'CC_NAME_CONTRACT_STATUS_Completed_VAR',\n",
       " 'CC_NAME_CONTRACT_STATUS_Demand_MIN',\n",
       " 'CC_NAME_CONTRACT_STATUS_Demand_MAX',\n",
       " 'CC_NAME_CONTRACT_STATUS_Demand_MEAN',\n",
       " 'CC_NAME_CONTRACT_STATUS_Demand_SUM',\n",
       " 'CC_NAME_CONTRACT_STATUS_Demand_VAR',\n",
       " 'CC_NAME_CONTRACT_STATUS_Refused_MIN',\n",
       " 'CC_NAME_CONTRACT_STATUS_Refused_MAX',\n",
       " 'CC_NAME_CONTRACT_STATUS_Refused_MEAN',\n",
       " 'CC_NAME_CONTRACT_STATUS_Refused_SUM',\n",
       " 'CC_NAME_CONTRACT_STATUS_Refused_VAR',\n",
       " 'CC_NAME_CONTRACT_STATUS_Sentproposal_MIN',\n",
       " 'CC_NAME_CONTRACT_STATUS_Sentproposal_MAX',\n",
       " 'CC_NAME_CONTRACT_STATUS_Sentproposal_MEAN',\n",
       " 'CC_NAME_CONTRACT_STATUS_Sentproposal_SUM',\n",
       " 'CC_NAME_CONTRACT_STATUS_Sentproposal_VAR',\n",
       " 'CC_NAME_CONTRACT_STATUS_Signed_MIN',\n",
       " 'CC_NAME_CONTRACT_STATUS_Signed_MAX',\n",
       " 'CC_NAME_CONTRACT_STATUS_Signed_MEAN',\n",
       " 'CC_NAME_CONTRACT_STATUS_Signed_SUM',\n",
       " 'CC_NAME_CONTRACT_STATUS_Signed_VAR',\n",
       " 'CC_NAME_CONTRACT_STATUS_nan_MIN',\n",
       " 'CC_NAME_CONTRACT_STATUS_nan_MAX',\n",
       " 'CC_NAME_CONTRACT_STATUS_nan_MEAN',\n",
       " 'CC_NAME_CONTRACT_STATUS_nan_SUM',\n",
       " 'CC_NAME_CONTRACT_STATUS_nan_VAR',\n",
       " 'CC_COUNT']"
      ]
     },
     "execution_count": 38,
     "metadata": {},
     "output_type": "execute_result"
    }
   ],
   "source": [
    "features"
   ]
  },
  {
   "cell_type": "code",
   "execution_count": 39,
   "metadata": {
    "collapsed": false,
    "pycharm": {
     "name": "#%%\n"
    }
   },
   "outputs": [
    {
     "name": "stderr",
     "output_type": "stream",
     "text": [
      "[Parallel(n_jobs=16)]: Using backend ThreadingBackend with 16 concurrent workers.\n",
      "[Parallel(n_jobs=16)]: Done  18 tasks      | elapsed:    0.1s\n",
      "[Parallel(n_jobs=16)]: Done 150 out of 150 | elapsed:    0.5s finished\n"
     ]
    }
   ],
   "source": [
    "predictions = random_forest.predict_proba(test)[:, 1]"
   ]
  },
  {
   "cell_type": "code",
   "execution_count": 40,
   "metadata": {
    "collapsed": false,
    "pycharm": {
     "name": "#%%\n"
    }
   },
   "outputs": [
    {
     "name": "stderr",
     "output_type": "stream",
     "text": [
      "[Parallel(n_jobs=16)]: Using backend ThreadingBackend with 16 concurrent workers.\n",
      "[Parallel(n_jobs=16)]: Done  18 tasks      | elapsed:    0.1s\n",
      "[Parallel(n_jobs=16)]: Done 150 out of 150 | elapsed:    0.5s finished\n"
     ]
    }
   ],
   "source": [
    "predict = random_forest.predict(test)"
   ]
  },
  {
   "cell_type": "code",
   "execution_count": 41,
   "metadata": {
    "collapsed": false,
    "pycharm": {
     "name": "#%%\n"
    }
   },
   "outputs": [
    {
     "data": {
      "text/plain": [
       "array([0., 0., 0., ..., 0., 0., 0.])"
      ]
     },
     "execution_count": 41,
     "metadata": {},
     "output_type": "execute_result"
    }
   ],
   "source": [
    "predict"
   ]
  },
  {
   "cell_type": "code",
   "execution_count": 42,
   "metadata": {
    "collapsed": false,
    "pycharm": {
     "name": "#%%\n"
    }
   },
   "outputs": [
    {
     "data": {
      "text/plain": [
       "0.0"
      ]
     },
     "execution_count": 42,
     "metadata": {},
     "output_type": "execute_result"
    }
   ],
   "source": [
    "predict.max()"
   ]
  },
  {
   "cell_type": "code",
   "execution_count": 43,
   "metadata": {
    "collapsed": false,
    "pycharm": {
     "name": "#%%\n"
    }
   },
   "outputs": [
    {
     "data": {
      "text/plain": [
       "0"
      ]
     },
     "execution_count": 43,
     "metadata": {},
     "output_type": "execute_result"
    }
   ],
   "source": [
    "np.count_nonzero(predict == 1)"
   ]
  },
  {
   "cell_type": "code",
   "execution_count": 44,
   "metadata": {
    "collapsed": false,
    "pycharm": {
     "name": "#%%\n"
    }
   },
   "outputs": [
    {
     "data": {
      "text/plain": [
       "array([0.10666667, 0.09333333, 0.00666667, ..., 0.06666667, 0.06666667,\n",
       "       0.22666667])"
      ]
     },
     "execution_count": 44,
     "metadata": {},
     "output_type": "execute_result"
    }
   ],
   "source": [
    "predictions"
   ]
  },
  {
   "cell_type": "code",
   "execution_count": 45,
   "metadata": {
    "collapsed": false,
    "pycharm": {
     "name": "#%%\n"
    }
   },
   "outputs": [
    {
     "data": {
      "text/plain": [
       "0.48"
      ]
     },
     "execution_count": 45,
     "metadata": {},
     "output_type": "execute_result"
    }
   ],
   "source": [
    "predictions.max()"
   ]
  },
  {
   "cell_type": "code",
   "execution_count": 46,
   "metadata": {
    "collapsed": false,
    "pycharm": {
     "name": "#%%\n"
    }
   },
   "outputs": [],
   "source": [
    "def display_importances(feature_importance_df_):\n",
    "    cols = feature_importance_df_[[\"feature\", \"importance\"]].groupby(\"feature\").mean().sort_values(by=\"importance\", ascending=False)[:40].index\n",
    "    best_features = feature_importance_df_.loc[feature_importance_df_.feature.isin(cols)]\n",
    "    plt.figure(figsize=(8, 10))\n",
    "    sns.barplot(x=\"importance\", y=\"feature\", data=best_features.sort_values(by=\"importance\", ascending=False))\n",
    "    plt.title('Random Forest (avg over folds)')\n",
    "    plt.tight_layout()\n",
    "    plt.savefig('RF_importances01.png')"
   ]
  },
  {
   "cell_type": "code",
   "execution_count": 47,
   "metadata": {
    "collapsed": false,
    "pycharm": {
     "name": "#%%\n"
    }
   },
   "outputs": [
    {
     "data": {
      "image/png": "[encoded data removed]",
      "text/plain": [
       "<Figure size 800x1000 with 1 Axes>"
      ]
     },
     "metadata": {},
     "output_type": "display_data"
    }
   ],
   "source": [
    "display_importances(feature_importances)"
   ]
  }
 ],
 "metadata": {
  "kernelspec": {
   "display_name": "proyectos-venv",
   "language": "python",
   "name": "proyectos-venv"
  },
  "language_info": {
   "codemirror_mode": {
    "name": "ipython",
    "version": 2
   },
   "file_extension": ".py",
   "mimetype": "text/x-python",
   "name": "python",
   "nbconvert_exporter": "python",
   "pygments_lexer": "ipython2",
   "version": "2.7.6"
  }
 },
 "nbformat": 4,
 "nbformat_minor": 0
}
